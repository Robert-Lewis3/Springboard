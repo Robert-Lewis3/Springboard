{
 "cells": [
  {
   "cell_type": "code",
   "execution_count": 1,
   "metadata": {},
   "outputs": [],
   "source": [
    "# import necessary libaries\n",
    "\n",
    "import numpy as np\n",
    "import matplotlib.pyplot as plt\n",
    "import pandas as pd\n",
    "import seaborn as sns\n",
    "import statsmodels.api as sm\n",
    "from scipy.stats import ttest_ind\n",
    "from scipy.stats import mannwhitneyu\n",
    "from bokeh.plotting import figure, show, output_file, output_notebook\n",
    "from bokeh.io import output_notebook\n",
    "\n",
    "%matplotlib inline"
   ]
  },
  {
   "cell_type": "code",
   "execution_count": 2,
   "metadata": {},
   "outputs": [
    {
     "data": {
      "text/html": [
       "\n",
       "    <div class=\"bk-root\">\n",
       "        <a href=\"https://bokeh.org\" target=\"_blank\" class=\"bk-logo bk-logo-small bk-logo-notebook\"></a>\n",
       "        <span id=\"1002\">Loading BokehJS ...</span>\n",
       "    </div>"
      ]
     },
     "metadata": {},
     "output_type": "display_data"
    },
    {
     "data": {
      "application/javascript": [
       "\n",
       "(function(root) {\n",
       "  function now() {\n",
       "    return new Date();\n",
       "  }\n",
       "\n",
       "  var force = true;\n",
       "\n",
       "  if (typeof root._bokeh_onload_callbacks === \"undefined\" || force === true) {\n",
       "    root._bokeh_onload_callbacks = [];\n",
       "    root._bokeh_is_loading = undefined;\n",
       "  }\n",
       "\n",
       "  var JS_MIME_TYPE = 'application/javascript';\n",
       "  var HTML_MIME_TYPE = 'text/html';\n",
       "  var EXEC_MIME_TYPE = 'application/vnd.bokehjs_exec.v0+json';\n",
       "  var CLASS_NAME = 'output_bokeh rendered_html';\n",
       "\n",
       "  /**\n",
       "   * Render data to the DOM node\n",
       "   */\n",
       "  function render(props, node) {\n",
       "    var script = document.createElement(\"script\");\n",
       "    node.appendChild(script);\n",
       "  }\n",
       "\n",
       "  /**\n",
       "   * Handle when an output is cleared or removed\n",
       "   */\n",
       "  function handleClearOutput(event, handle) {\n",
       "    var cell = handle.cell;\n",
       "\n",
       "    var id = cell.output_area._bokeh_element_id;\n",
       "    var server_id = cell.output_area._bokeh_server_id;\n",
       "    // Clean up Bokeh references\n",
       "    if (id != null && id in Bokeh.index) {\n",
       "      Bokeh.index[id].model.document.clear();\n",
       "      delete Bokeh.index[id];\n",
       "    }\n",
       "\n",
       "    if (server_id !== undefined) {\n",
       "      // Clean up Bokeh references\n",
       "      var cmd = \"from bokeh.io.state import curstate; print(curstate().uuid_to_server['\" + server_id + \"'].get_sessions()[0].document.roots[0]._id)\";\n",
       "      cell.notebook.kernel.execute(cmd, {\n",
       "        iopub: {\n",
       "          output: function(msg) {\n",
       "            var id = msg.content.text.trim();\n",
       "            if (id in Bokeh.index) {\n",
       "              Bokeh.index[id].model.document.clear();\n",
       "              delete Bokeh.index[id];\n",
       "            }\n",
       "          }\n",
       "        }\n",
       "      });\n",
       "      // Destroy server and session\n",
       "      var cmd = \"import bokeh.io.notebook as ion; ion.destroy_server('\" + server_id + \"')\";\n",
       "      cell.notebook.kernel.execute(cmd);\n",
       "    }\n",
       "  }\n",
       "\n",
       "  /**\n",
       "   * Handle when a new output is added\n",
       "   */\n",
       "  function handleAddOutput(event, handle) {\n",
       "    var output_area = handle.output_area;\n",
       "    var output = handle.output;\n",
       "\n",
       "    // limit handleAddOutput to display_data with EXEC_MIME_TYPE content only\n",
       "    if ((output.output_type != \"display_data\") || (!Object.prototype.hasOwnProperty.call(output.data, EXEC_MIME_TYPE))) {\n",
       "      return\n",
       "    }\n",
       "\n",
       "    var toinsert = output_area.element.find(\".\" + CLASS_NAME.split(' ')[0]);\n",
       "\n",
       "    if (output.metadata[EXEC_MIME_TYPE][\"id\"] !== undefined) {\n",
       "      toinsert[toinsert.length - 1].firstChild.textContent = output.data[JS_MIME_TYPE];\n",
       "      // store reference to embed id on output_area\n",
       "      output_area._bokeh_element_id = output.metadata[EXEC_MIME_TYPE][\"id\"];\n",
       "    }\n",
       "    if (output.metadata[EXEC_MIME_TYPE][\"server_id\"] !== undefined) {\n",
       "      var bk_div = document.createElement(\"div\");\n",
       "      bk_div.innerHTML = output.data[HTML_MIME_TYPE];\n",
       "      var script_attrs = bk_div.children[0].attributes;\n",
       "      for (var i = 0; i < script_attrs.length; i++) {\n",
       "        toinsert[toinsert.length - 1].firstChild.setAttribute(script_attrs[i].name, script_attrs[i].value);\n",
       "        toinsert[toinsert.length - 1].firstChild.textContent = bk_div.children[0].textContent\n",
       "      }\n",
       "      // store reference to server id on output_area\n",
       "      output_area._bokeh_server_id = output.metadata[EXEC_MIME_TYPE][\"server_id\"];\n",
       "    }\n",
       "  }\n",
       "\n",
       "  function register_renderer(events, OutputArea) {\n",
       "\n",
       "    function append_mime(data, metadata, element) {\n",
       "      // create a DOM node to render to\n",
       "      var toinsert = this.create_output_subarea(\n",
       "        metadata,\n",
       "        CLASS_NAME,\n",
       "        EXEC_MIME_TYPE\n",
       "      );\n",
       "      this.keyboard_manager.register_events(toinsert);\n",
       "      // Render to node\n",
       "      var props = {data: data, metadata: metadata[EXEC_MIME_TYPE]};\n",
       "      render(props, toinsert[toinsert.length - 1]);\n",
       "      element.append(toinsert);\n",
       "      return toinsert\n",
       "    }\n",
       "\n",
       "    /* Handle when an output is cleared or removed */\n",
       "    events.on('clear_output.CodeCell', handleClearOutput);\n",
       "    events.on('delete.Cell', handleClearOutput);\n",
       "\n",
       "    /* Handle when a new output is added */\n",
       "    events.on('output_added.OutputArea', handleAddOutput);\n",
       "\n",
       "    /**\n",
       "     * Register the mime type and append_mime function with output_area\n",
       "     */\n",
       "    OutputArea.prototype.register_mime_type(EXEC_MIME_TYPE, append_mime, {\n",
       "      /* Is output safe? */\n",
       "      safe: true,\n",
       "      /* Index of renderer in `output_area.display_order` */\n",
       "      index: 0\n",
       "    });\n",
       "  }\n",
       "\n",
       "  // register the mime type if in Jupyter Notebook environment and previously unregistered\n",
       "  if (root.Jupyter !== undefined) {\n",
       "    var events = require('base/js/events');\n",
       "    var OutputArea = require('notebook/js/outputarea').OutputArea;\n",
       "\n",
       "    if (OutputArea.prototype.mime_types().indexOf(EXEC_MIME_TYPE) == -1) {\n",
       "      register_renderer(events, OutputArea);\n",
       "    }\n",
       "  }\n",
       "\n",
       "  \n",
       "  if (typeof (root._bokeh_timeout) === \"undefined\" || force === true) {\n",
       "    root._bokeh_timeout = Date.now() + 5000;\n",
       "    root._bokeh_failed_load = false;\n",
       "  }\n",
       "\n",
       "  var NB_LOAD_WARNING = {'data': {'text/html':\n",
       "     \"<div style='background-color: #fdd'>\\n\"+\n",
       "     \"<p>\\n\"+\n",
       "     \"BokehJS does not appear to have successfully loaded. If loading BokehJS from CDN, this \\n\"+\n",
       "     \"may be due to a slow or bad network connection. Possible fixes:\\n\"+\n",
       "     \"</p>\\n\"+\n",
       "     \"<ul>\\n\"+\n",
       "     \"<li>re-rerun `output_notebook()` to attempt to load from CDN again, or</li>\\n\"+\n",
       "     \"<li>use INLINE resources instead, as so:</li>\\n\"+\n",
       "     \"</ul>\\n\"+\n",
       "     \"<code>\\n\"+\n",
       "     \"from bokeh.resources import INLINE\\n\"+\n",
       "     \"output_notebook(resources=INLINE)\\n\"+\n",
       "     \"</code>\\n\"+\n",
       "     \"</div>\"}};\n",
       "\n",
       "  function display_loaded() {\n",
       "    var el = document.getElementById(\"1002\");\n",
       "    if (el != null) {\n",
       "      el.textContent = \"BokehJS is loading...\";\n",
       "    }\n",
       "    if (root.Bokeh !== undefined) {\n",
       "      if (el != null) {\n",
       "        el.textContent = \"BokehJS \" + root.Bokeh.version + \" successfully loaded.\";\n",
       "      }\n",
       "    } else if (Date.now() < root._bokeh_timeout) {\n",
       "      setTimeout(display_loaded, 100)\n",
       "    }\n",
       "  }\n",
       "\n",
       "\n",
       "  function run_callbacks() {\n",
       "    try {\n",
       "      root._bokeh_onload_callbacks.forEach(function(callback) {\n",
       "        if (callback != null)\n",
       "          callback();\n",
       "      });\n",
       "    } finally {\n",
       "      delete root._bokeh_onload_callbacks\n",
       "    }\n",
       "    console.debug(\"Bokeh: all callbacks have finished\");\n",
       "  }\n",
       "\n",
       "  function load_libs(css_urls, js_urls, callback) {\n",
       "    if (css_urls == null) css_urls = [];\n",
       "    if (js_urls == null) js_urls = [];\n",
       "\n",
       "    root._bokeh_onload_callbacks.push(callback);\n",
       "    if (root._bokeh_is_loading > 0) {\n",
       "      console.debug(\"Bokeh: BokehJS is being loaded, scheduling callback at\", now());\n",
       "      return null;\n",
       "    }\n",
       "    if (js_urls == null || js_urls.length === 0) {\n",
       "      run_callbacks();\n",
       "      return null;\n",
       "    }\n",
       "    console.debug(\"Bokeh: BokehJS not loaded, scheduling load and callback at\", now());\n",
       "    root._bokeh_is_loading = css_urls.length + js_urls.length;\n",
       "\n",
       "    function on_load() {\n",
       "      root._bokeh_is_loading--;\n",
       "      if (root._bokeh_is_loading === 0) {\n",
       "        console.debug(\"Bokeh: all BokehJS libraries/stylesheets loaded\");\n",
       "        run_callbacks()\n",
       "      }\n",
       "    }\n",
       "\n",
       "    function on_error(url) {\n",
       "      console.error(\"failed to load \" + url);\n",
       "    }\n",
       "\n",
       "    for (let i = 0; i < css_urls.length; i++) {\n",
       "      const url = css_urls[i];\n",
       "      const element = document.createElement(\"link\");\n",
       "      element.onload = on_load;\n",
       "      element.onerror = on_error.bind(null, url);\n",
       "      element.rel = \"stylesheet\";\n",
       "      element.type = \"text/css\";\n",
       "      element.href = url;\n",
       "      console.debug(\"Bokeh: injecting link tag for BokehJS stylesheet: \", url);\n",
       "      document.body.appendChild(element);\n",
       "    }\n",
       "\n",
       "    const hashes = {\"https://cdn.bokeh.org/bokeh/release/bokeh-2.3.1.min.js\": \"YF85VygJKMVnHE+lLv2AM93Vbstr0yo2TbIu5v8se5Rq3UQAUmcuh4aaJwNlpKwa\", \"https://cdn.bokeh.org/bokeh/release/bokeh-widgets-2.3.1.min.js\": \"KKuas3gevv3PvrlkyCMzffFeaMq5we/a2QsP5AUoS3mJ0jmaCL7jirFJN3GoE/lM\", \"https://cdn.bokeh.org/bokeh/release/bokeh-tables-2.3.1.min.js\": \"MK/uFc3YT18pkvvXRl66tTHjP0/dxoSH2e/eiNMFIguKlun2+WVqaPTWmUy/zvh4\"};\n",
       "\n",
       "    for (let i = 0; i < js_urls.length; i++) {\n",
       "      const url = js_urls[i];\n",
       "      const element = document.createElement('script');\n",
       "      element.onload = on_load;\n",
       "      element.onerror = on_error.bind(null, url);\n",
       "      element.async = false;\n",
       "      element.src = url;\n",
       "      if (url in hashes) {\n",
       "        element.crossOrigin = \"anonymous\";\n",
       "        element.integrity = \"sha384-\" + hashes[url];\n",
       "      }\n",
       "      console.debug(\"Bokeh: injecting script tag for BokehJS library: \", url);\n",
       "      document.head.appendChild(element);\n",
       "    }\n",
       "  };\n",
       "\n",
       "  function inject_raw_css(css) {\n",
       "    const element = document.createElement(\"style\");\n",
       "    element.appendChild(document.createTextNode(css));\n",
       "    document.body.appendChild(element);\n",
       "  }\n",
       "\n",
       "  \n",
       "  var js_urls = [\"https://cdn.bokeh.org/bokeh/release/bokeh-2.3.1.min.js\", \"https://cdn.bokeh.org/bokeh/release/bokeh-widgets-2.3.1.min.js\", \"https://cdn.bokeh.org/bokeh/release/bokeh-tables-2.3.1.min.js\"];\n",
       "  var css_urls = [];\n",
       "  \n",
       "\n",
       "  var inline_js = [\n",
       "    function(Bokeh) {\n",
       "      Bokeh.set_log_level(\"info\");\n",
       "    },\n",
       "    function(Bokeh) {\n",
       "    \n",
       "    \n",
       "    }\n",
       "  ];\n",
       "\n",
       "  function run_inline_js() {\n",
       "    \n",
       "    if (root.Bokeh !== undefined || force === true) {\n",
       "      \n",
       "    for (var i = 0; i < inline_js.length; i++) {\n",
       "      inline_js[i].call(root, root.Bokeh);\n",
       "    }\n",
       "    if (force === true) {\n",
       "        display_loaded();\n",
       "      }} else if (Date.now() < root._bokeh_timeout) {\n",
       "      setTimeout(run_inline_js, 100);\n",
       "    } else if (!root._bokeh_failed_load) {\n",
       "      console.log(\"Bokeh: BokehJS failed to load within specified timeout.\");\n",
       "      root._bokeh_failed_load = true;\n",
       "    } else if (force !== true) {\n",
       "      var cell = $(document.getElementById(\"1002\")).parents('.cell').data().cell;\n",
       "      cell.output_area.append_execute_result(NB_LOAD_WARNING)\n",
       "    }\n",
       "\n",
       "  }\n",
       "\n",
       "  if (root._bokeh_is_loading === 0) {\n",
       "    console.debug(\"Bokeh: BokehJS loaded, going straight to plotting\");\n",
       "    run_inline_js();\n",
       "  } else {\n",
       "    load_libs(css_urls, js_urls, function() {\n",
       "      console.debug(\"Bokeh: BokehJS plotting callback run at\", now());\n",
       "      run_inline_js();\n",
       "    });\n",
       "  }\n",
       "}(window));"
      ],
      "application/vnd.bokehjs_load.v0+json": "\n(function(root) {\n  function now() {\n    return new Date();\n  }\n\n  var force = true;\n\n  if (typeof root._bokeh_onload_callbacks === \"undefined\" || force === true) {\n    root._bokeh_onload_callbacks = [];\n    root._bokeh_is_loading = undefined;\n  }\n\n  \n\n  \n  if (typeof (root._bokeh_timeout) === \"undefined\" || force === true) {\n    root._bokeh_timeout = Date.now() + 5000;\n    root._bokeh_failed_load = false;\n  }\n\n  var NB_LOAD_WARNING = {'data': {'text/html':\n     \"<div style='background-color: #fdd'>\\n\"+\n     \"<p>\\n\"+\n     \"BokehJS does not appear to have successfully loaded. If loading BokehJS from CDN, this \\n\"+\n     \"may be due to a slow or bad network connection. Possible fixes:\\n\"+\n     \"</p>\\n\"+\n     \"<ul>\\n\"+\n     \"<li>re-rerun `output_notebook()` to attempt to load from CDN again, or</li>\\n\"+\n     \"<li>use INLINE resources instead, as so:</li>\\n\"+\n     \"</ul>\\n\"+\n     \"<code>\\n\"+\n     \"from bokeh.resources import INLINE\\n\"+\n     \"output_notebook(resources=INLINE)\\n\"+\n     \"</code>\\n\"+\n     \"</div>\"}};\n\n  function display_loaded() {\n    var el = document.getElementById(\"1002\");\n    if (el != null) {\n      el.textContent = \"BokehJS is loading...\";\n    }\n    if (root.Bokeh !== undefined) {\n      if (el != null) {\n        el.textContent = \"BokehJS \" + root.Bokeh.version + \" successfully loaded.\";\n      }\n    } else if (Date.now() < root._bokeh_timeout) {\n      setTimeout(display_loaded, 100)\n    }\n  }\n\n\n  function run_callbacks() {\n    try {\n      root._bokeh_onload_callbacks.forEach(function(callback) {\n        if (callback != null)\n          callback();\n      });\n    } finally {\n      delete root._bokeh_onload_callbacks\n    }\n    console.debug(\"Bokeh: all callbacks have finished\");\n  }\n\n  function load_libs(css_urls, js_urls, callback) {\n    if (css_urls == null) css_urls = [];\n    if (js_urls == null) js_urls = [];\n\n    root._bokeh_onload_callbacks.push(callback);\n    if (root._bokeh_is_loading > 0) {\n      console.debug(\"Bokeh: BokehJS is being loaded, scheduling callback at\", now());\n      return null;\n    }\n    if (js_urls == null || js_urls.length === 0) {\n      run_callbacks();\n      return null;\n    }\n    console.debug(\"Bokeh: BokehJS not loaded, scheduling load and callback at\", now());\n    root._bokeh_is_loading = css_urls.length + js_urls.length;\n\n    function on_load() {\n      root._bokeh_is_loading--;\n      if (root._bokeh_is_loading === 0) {\n        console.debug(\"Bokeh: all BokehJS libraries/stylesheets loaded\");\n        run_callbacks()\n      }\n    }\n\n    function on_error(url) {\n      console.error(\"failed to load \" + url);\n    }\n\n    for (let i = 0; i < css_urls.length; i++) {\n      const url = css_urls[i];\n      const element = document.createElement(\"link\");\n      element.onload = on_load;\n      element.onerror = on_error.bind(null, url);\n      element.rel = \"stylesheet\";\n      element.type = \"text/css\";\n      element.href = url;\n      console.debug(\"Bokeh: injecting link tag for BokehJS stylesheet: \", url);\n      document.body.appendChild(element);\n    }\n\n    const hashes = {\"https://cdn.bokeh.org/bokeh/release/bokeh-2.3.1.min.js\": \"YF85VygJKMVnHE+lLv2AM93Vbstr0yo2TbIu5v8se5Rq3UQAUmcuh4aaJwNlpKwa\", \"https://cdn.bokeh.org/bokeh/release/bokeh-widgets-2.3.1.min.js\": \"KKuas3gevv3PvrlkyCMzffFeaMq5we/a2QsP5AUoS3mJ0jmaCL7jirFJN3GoE/lM\", \"https://cdn.bokeh.org/bokeh/release/bokeh-tables-2.3.1.min.js\": \"MK/uFc3YT18pkvvXRl66tTHjP0/dxoSH2e/eiNMFIguKlun2+WVqaPTWmUy/zvh4\"};\n\n    for (let i = 0; i < js_urls.length; i++) {\n      const url = js_urls[i];\n      const element = document.createElement('script');\n      element.onload = on_load;\n      element.onerror = on_error.bind(null, url);\n      element.async = false;\n      element.src = url;\n      if (url in hashes) {\n        element.crossOrigin = \"anonymous\";\n        element.integrity = \"sha384-\" + hashes[url];\n      }\n      console.debug(\"Bokeh: injecting script tag for BokehJS library: \", url);\n      document.head.appendChild(element);\n    }\n  };\n\n  function inject_raw_css(css) {\n    const element = document.createElement(\"style\");\n    element.appendChild(document.createTextNode(css));\n    document.body.appendChild(element);\n  }\n\n  \n  var js_urls = [\"https://cdn.bokeh.org/bokeh/release/bokeh-2.3.1.min.js\", \"https://cdn.bokeh.org/bokeh/release/bokeh-widgets-2.3.1.min.js\", \"https://cdn.bokeh.org/bokeh/release/bokeh-tables-2.3.1.min.js\"];\n  var css_urls = [];\n  \n\n  var inline_js = [\n    function(Bokeh) {\n      Bokeh.set_log_level(\"info\");\n    },\n    function(Bokeh) {\n    \n    \n    }\n  ];\n\n  function run_inline_js() {\n    \n    if (root.Bokeh !== undefined || force === true) {\n      \n    for (var i = 0; i < inline_js.length; i++) {\n      inline_js[i].call(root, root.Bokeh);\n    }\n    if (force === true) {\n        display_loaded();\n      }} else if (Date.now() < root._bokeh_timeout) {\n      setTimeout(run_inline_js, 100);\n    } else if (!root._bokeh_failed_load) {\n      console.log(\"Bokeh: BokehJS failed to load within specified timeout.\");\n      root._bokeh_failed_load = true;\n    } else if (force !== true) {\n      var cell = $(document.getElementById(\"1002\")).parents('.cell').data().cell;\n      cell.output_area.append_execute_result(NB_LOAD_WARNING)\n    }\n\n  }\n\n  if (root._bokeh_is_loading === 0) {\n    console.debug(\"Bokeh: BokehJS loaded, going straight to plotting\");\n    run_inline_js();\n  } else {\n    load_libs(css_urls, js_urls, function() {\n      console.debug(\"Bokeh: BokehJS plotting callback run at\", now());\n      run_inline_js();\n    });\n  }\n}(window));"
     },
     "metadata": {},
     "output_type": "display_data"
    }
   ],
   "source": [
    "output_notebook()"
   ]
  },
  {
   "cell_type": "markdown",
   "metadata": {},
   "source": [
    "## Notes:\n",
    "\n",
    "#### GOAL: Determine whether Smartly or Nanigans delivers a better ad performance (based on Cost per Acquisition)\n",
    "\n",
    "#### The study is randomized with equal weight given to Smartly / Nanigans (50/50) with no users seeing ads from both FMPs\n",
    "\n",
    "#### Study is being run from 11-14-2017 (1230) to 11-30-2017 (1330)\n",
    "\n",
    "#### Attribution: 28 day click, no view through \n",
    "\n",
    "#### Spent Column is given in 'cents'\n",
    "\n",
    "### Assumptions:\n",
    "\n",
    "#### Audience is the same for smartly and nanigans ads (50/50 random split)\n",
    "\n",
    "#### November 14th is the first day ads ran for both FMPs (conversions occurring over the given time period are not attributable to ads that ran prior to 11-14)\n",
    "\n",
    "#### Ad study began and ended at the same time for both FMPs\n",
    "\n",
    "### Notebook Outline:\n",
    "\n",
    "     1) Loading & Cleaning Data \n",
    "     2) Exploring Smartly & Nanigans and Determining CPA\n",
    "     3) Making Comparisons & Checking for Significance\n",
    "     4) Insights & Conclusions"
   ]
  },
  {
   "cell_type": "markdown",
   "metadata": {},
   "source": [
    "----"
   ]
  },
  {
   "cell_type": "markdown",
   "metadata": {},
   "source": [
    "# 1) Loading and Cleaning Data"
   ]
  },
  {
   "cell_type": "code",
   "execution_count": 3,
   "metadata": {},
   "outputs": [],
   "source": [
    "# import the data\n",
    "\n",
    "data = 'AnalyticsExerciseDataOriginal.csv'\n",
    "df = pd.read_csv(data)"
   ]
  },
  {
   "cell_type": "code",
   "execution_count": 4,
   "metadata": {},
   "outputs": [
    {
     "data": {
      "text/html": [
       "<div>\n",
       "<style scoped>\n",
       "    .dataframe tbody tr th:only-of-type {\n",
       "        vertical-align: middle;\n",
       "    }\n",
       "\n",
       "    .dataframe tbody tr th {\n",
       "        vertical-align: top;\n",
       "    }\n",
       "\n",
       "    .dataframe thead th {\n",
       "        text-align: right;\n",
       "    }\n",
       "</style>\n",
       "<table border=\"1\" class=\"dataframe\">\n",
       "  <thead>\n",
       "    <tr style=\"text-align: right;\">\n",
       "      <th></th>\n",
       "      <th>cell</th>\n",
       "      <th>adgroup_id</th>\n",
       "      <th>date</th>\n",
       "      <th>spent</th>\n",
       "      <th>impressions</th>\n",
       "      <th>clicks</th>\n",
       "      <th>conversions</th>\n",
       "    </tr>\n",
       "  </thead>\n",
       "  <tbody>\n",
       "    <tr>\n",
       "      <th>0</th>\n",
       "      <td>nanigans</td>\n",
       "      <td>5a0ad96be6b83b6df54da177</td>\n",
       "      <td>2017-11-14</td>\n",
       "      <td>2583</td>\n",
       "      <td>1026</td>\n",
       "      <td>19</td>\n",
       "      <td>6</td>\n",
       "    </tr>\n",
       "    <tr>\n",
       "      <th>1</th>\n",
       "      <td>nanigans</td>\n",
       "      <td>5a0ad96be6b83b6df54da177</td>\n",
       "      <td>2017-11-15</td>\n",
       "      <td>1819</td>\n",
       "      <td>744</td>\n",
       "      <td>14</td>\n",
       "      <td>1</td>\n",
       "    </tr>\n",
       "    <tr>\n",
       "      <th>2</th>\n",
       "      <td>nanigans</td>\n",
       "      <td>5a0ad96be6b83b6df54da177</td>\n",
       "      <td>2017-11-21</td>\n",
       "      <td>555</td>\n",
       "      <td>272</td>\n",
       "      <td>1</td>\n",
       "      <td>0</td>\n",
       "    </tr>\n",
       "    <tr>\n",
       "      <th>3</th>\n",
       "      <td>nanigans</td>\n",
       "      <td>5a0ad96be6b83b6df54da179</td>\n",
       "      <td>2017-11-14</td>\n",
       "      <td>2793</td>\n",
       "      <td>1063</td>\n",
       "      <td>13</td>\n",
       "      <td>4</td>\n",
       "    </tr>\n",
       "    <tr>\n",
       "      <th>4</th>\n",
       "      <td>nanigans</td>\n",
       "      <td>5a0ad96be6b83b6df54da179</td>\n",
       "      <td>2017-11-15</td>\n",
       "      <td>1714</td>\n",
       "      <td>702</td>\n",
       "      <td>5</td>\n",
       "      <td>3</td>\n",
       "    </tr>\n",
       "  </tbody>\n",
       "</table>\n",
       "</div>"
      ],
      "text/plain": [
       "       cell                adgroup_id        date  spent  impressions  clicks  \\\n",
       "0  nanigans  5a0ad96be6b83b6df54da177  2017-11-14   2583         1026      19   \n",
       "1  nanigans  5a0ad96be6b83b6df54da177  2017-11-15   1819          744      14   \n",
       "2  nanigans  5a0ad96be6b83b6df54da177  2017-11-21    555          272       1   \n",
       "3  nanigans  5a0ad96be6b83b6df54da179  2017-11-14   2793         1063      13   \n",
       "4  nanigans  5a0ad96be6b83b6df54da179  2017-11-15   1714          702       5   \n",
       "\n",
       "   conversions  \n",
       "0            6  \n",
       "1            1  \n",
       "2            0  \n",
       "3            4  \n",
       "4            3  "
      ]
     },
     "execution_count": 4,
     "metadata": {},
     "output_type": "execute_result"
    }
   ],
   "source": [
    "# display the top 5 entries to visualize the dataset\n",
    "\n",
    "df.head()"
   ]
  },
  {
   "cell_type": "code",
   "execution_count": 5,
   "metadata": {},
   "outputs": [
    {
     "name": "stdout",
     "output_type": "stream",
     "text": [
      "<class 'pandas.core.frame.DataFrame'>\n",
      "RangeIndex: 322 entries, 0 to 321\n",
      "Data columns (total 7 columns):\n",
      " #   Column       Non-Null Count  Dtype \n",
      "---  ------       --------------  ----- \n",
      " 0   cell         322 non-null    object\n",
      " 1   adgroup_id   322 non-null    object\n",
      " 2   date         322 non-null    object\n",
      " 3   spent        322 non-null    int64 \n",
      " 4   impressions  322 non-null    int64 \n",
      " 5   clicks       322 non-null    int64 \n",
      " 6   conversions  322 non-null    int64 \n",
      "dtypes: int64(4), object(3)\n",
      "memory usage: 17.7+ KB\n"
     ]
    }
   ],
   "source": [
    "# Get an overview of what the dataset contains\n",
    "\n",
    "df.info()"
   ]
  },
  {
   "cell_type": "markdown",
   "metadata": {},
   "source": [
    "- This dataset contains 322 rows and 7 columns\n",
    "- The first 3 columns are strings, the remaining 4 are numerical features"
   ]
  },
  {
   "cell_type": "code",
   "execution_count": 6,
   "metadata": {},
   "outputs": [
    {
     "data": {
      "text/plain": [
       "(322, 7)"
      ]
     },
     "execution_count": 6,
     "metadata": {},
     "output_type": "execute_result"
    }
   ],
   "source": [
    "df.shape"
   ]
  },
  {
   "cell_type": "markdown",
   "metadata": {},
   "source": [
    "### Convert the date column from 'object' type to 'datetime' "
   ]
  },
  {
   "cell_type": "code",
   "execution_count": 7,
   "metadata": {},
   "outputs": [],
   "source": [
    "df['date'] = pd.to_datetime(df['date'])"
   ]
  },
  {
   "cell_type": "code",
   "execution_count": 8,
   "metadata": {},
   "outputs": [
    {
     "name": "stdout",
     "output_type": "stream",
     "text": [
      "<class 'pandas.core.frame.DataFrame'>\n",
      "RangeIndex: 322 entries, 0 to 321\n",
      "Data columns (total 7 columns):\n",
      " #   Column       Non-Null Count  Dtype         \n",
      "---  ------       --------------  -----         \n",
      " 0   cell         322 non-null    object        \n",
      " 1   adgroup_id   322 non-null    object        \n",
      " 2   date         322 non-null    datetime64[ns]\n",
      " 3   spent        322 non-null    int64         \n",
      " 4   impressions  322 non-null    int64         \n",
      " 5   clicks       322 non-null    int64         \n",
      " 6   conversions  322 non-null    int64         \n",
      "dtypes: datetime64[ns](1), int64(4), object(2)\n",
      "memory usage: 17.7+ KB\n"
     ]
    }
   ],
   "source": [
    "# Verify the date column was converted\n",
    "\n",
    "df.info()"
   ]
  },
  {
   "cell_type": "markdown",
   "metadata": {},
   "source": [
    "### Because Dollars are easier for most people to understand, the 'Spent' column will be converted from cents to dollars"
   ]
  },
  {
   "cell_type": "code",
   "execution_count": 9,
   "metadata": {},
   "outputs": [
    {
     "name": "stdout",
     "output_type": "stream",
     "text": [
      "0       25.83\n",
      "1       18.19\n",
      "2        5.55\n",
      "3       27.93\n",
      "4       17.14\n",
      "        ...  \n",
      "317    231.69\n",
      "318    185.52\n",
      "319    200.21\n",
      "320    191.55\n",
      "321    208.72\n",
      "Name: spent, Length: 322, dtype: float64\n"
     ]
    }
   ],
   "source": [
    "df['spent'] = round(df['spent'] / 100 , 2)\n",
    "print(df['spent'])"
   ]
  },
  {
   "cell_type": "markdown",
   "metadata": {},
   "source": [
    "### Checking for missing values"
   ]
  },
  {
   "cell_type": "code",
   "execution_count": 10,
   "metadata": {},
   "outputs": [
    {
     "data": {
      "text/plain": [
       "cell           0\n",
       "adgroup_id     0\n",
       "date           0\n",
       "spent          0\n",
       "impressions    0\n",
       "clicks         0\n",
       "conversions    0\n",
       "dtype: int64"
      ]
     },
     "execution_count": 10,
     "metadata": {},
     "output_type": "execute_result"
    }
   ],
   "source": [
    "df.isnull().sum()"
   ]
  },
  {
   "cell_type": "markdown",
   "metadata": {},
   "source": [
    "Yay! There appear to be no missing values"
   ]
  },
  {
   "cell_type": "markdown",
   "metadata": {},
   "source": [
    "### Looking at the number of unique values"
   ]
  },
  {
   "cell_type": "code",
   "execution_count": 11,
   "metadata": {},
   "outputs": [
    {
     "data": {
      "text/plain": [
       "cell             2\n",
       "adgroup_id      61\n",
       "date            15\n",
       "spent          303\n",
       "impressions    299\n",
       "clicks          89\n",
       "conversions     56\n",
       "dtype: int64"
      ]
     },
     "execution_count": 11,
     "metadata": {},
     "output_type": "execute_result"
    }
   ],
   "source": [
    "df.nunique()"
   ]
  },
  {
   "cell_type": "markdown",
   "metadata": {},
   "source": [
    "I used the nunique() method, however, I was only interested in the first few\n",
    "\n",
    "- As stated, only Smartly and Nanigans data are included in this dataset (Cell col)\n",
    "- Eventhough there are 17 days in which the test was run, there appear to only be 15 unique dates. Will need to explore further"
   ]
  },
  {
   "cell_type": "markdown",
   "metadata": {},
   "source": [
    "### Examining Dates"
   ]
  },
  {
   "cell_type": "code",
   "execution_count": 12,
   "metadata": {},
   "outputs": [
    {
     "name": "stdout",
     "output_type": "stream",
     "text": [
      "2017-11-14 00:00:00 2017-11-28 00:00:00\n"
     ]
    }
   ],
   "source": [
    "min_date = df['date'].min()\n",
    "max_date = df['date'].max()\n",
    "print(min_date , max_date)"
   ]
  },
  {
   "cell_type": "markdown",
   "metadata": {},
   "source": [
    "It appears that the last ad ran / converted on 2017-11-28 , despite the test being run until the 30th. This would account for the 2 day discrepancy seen in the number of unique dates above. To be certain, we'll look at all the unique dates to verify there are no gaps."
   ]
  },
  {
   "cell_type": "code",
   "execution_count": 13,
   "metadata": {},
   "outputs": [
    {
     "name": "stdout",
     "output_type": "stream",
     "text": [
      "[numpy.datetime64('2017-11-14T00:00:00.000000000'), numpy.datetime64('2017-11-15T00:00:00.000000000'), numpy.datetime64('2017-11-16T00:00:00.000000000'), numpy.datetime64('2017-11-17T00:00:00.000000000'), numpy.datetime64('2017-11-18T00:00:00.000000000'), numpy.datetime64('2017-11-19T00:00:00.000000000'), numpy.datetime64('2017-11-20T00:00:00.000000000'), numpy.datetime64('2017-11-21T00:00:00.000000000'), numpy.datetime64('2017-11-22T00:00:00.000000000'), numpy.datetime64('2017-11-23T00:00:00.000000000'), numpy.datetime64('2017-11-24T00:00:00.000000000'), numpy.datetime64('2017-11-25T00:00:00.000000000'), numpy.datetime64('2017-11-26T00:00:00.000000000'), numpy.datetime64('2017-11-27T00:00:00.000000000'), numpy.datetime64('2017-11-28T00:00:00.000000000')]\n"
     ]
    }
   ],
   "source": [
    "dates = df['date'].unique()\n",
    "print(sorted(dates))"
   ]
  },
  {
   "cell_type": "markdown",
   "metadata": {},
   "source": [
    "#### The dates from 2017-11-14 to 2017-11-28 contain no gaps"
   ]
  },
  {
   "cell_type": "markdown",
   "metadata": {},
   "source": [
    "----"
   ]
  },
  {
   "cell_type": "markdown",
   "metadata": {},
   "source": [
    "# Exploring FMPs individually and calculating their CPA "
   ]
  },
  {
   "cell_type": "markdown",
   "metadata": {},
   "source": [
    "### To start analyzing which FMP performed best, we'll start by splitting the initial dataset into 2 separate datasets. 1 for Smartly ads and 1 for Nanigans "
   ]
  },
  {
   "cell_type": "code",
   "execution_count": 14,
   "metadata": {},
   "outputs": [
    {
     "name": "stdout",
     "output_type": "stream",
     "text": [
      "Smartly: 23, Nanigans: 299\n"
     ]
    }
   ],
   "source": [
    "# Looking at the distribution of Smartly to Nanigans data\n",
    "\n",
    "smartly = df[df['cell'] == 'smartly']\n",
    "nanigans  = df[df['cell'] == 'nanigans']\n",
    "\n",
    "print('Smartly: {:d}, Nanigans: {:d}'.format(len(smartly), len(nanigans)))"
   ]
  },
  {
   "cell_type": "markdown",
   "metadata": {},
   "source": [
    "#### Interestingly there appears to only be 23 observations for Smartly to Nanigans' 299"
   ]
  },
  {
   "cell_type": "markdown",
   "metadata": {},
   "source": [
    "# Smartly"
   ]
  },
  {
   "cell_type": "code",
   "execution_count": 15,
   "metadata": {},
   "outputs": [
    {
     "data": {
      "text/html": [
       "<div>\n",
       "<style scoped>\n",
       "    .dataframe tbody tr th:only-of-type {\n",
       "        vertical-align: middle;\n",
       "    }\n",
       "\n",
       "    .dataframe tbody tr th {\n",
       "        vertical-align: top;\n",
       "    }\n",
       "\n",
       "    .dataframe thead th {\n",
       "        text-align: right;\n",
       "    }\n",
       "</style>\n",
       "<table border=\"1\" class=\"dataframe\">\n",
       "  <thead>\n",
       "    <tr style=\"text-align: right;\">\n",
       "      <th></th>\n",
       "      <th>cell</th>\n",
       "      <th>adgroup_id</th>\n",
       "      <th>spent</th>\n",
       "      <th>impressions</th>\n",
       "      <th>clicks</th>\n",
       "      <th>conversions</th>\n",
       "      <th>CPM</th>\n",
       "      <th>CPC</th>\n",
       "      <th>CPA</th>\n",
       "    </tr>\n",
       "    <tr>\n",
       "      <th>date</th>\n",
       "      <th></th>\n",
       "      <th></th>\n",
       "      <th></th>\n",
       "      <th></th>\n",
       "      <th></th>\n",
       "      <th></th>\n",
       "      <th></th>\n",
       "      <th></th>\n",
       "      <th></th>\n",
       "    </tr>\n",
       "  </thead>\n",
       "  <tbody>\n",
       "    <tr>\n",
       "      <th>2017-11-14</th>\n",
       "      <td>smartly</td>\n",
       "      <td>5a0ada56c7e28c71086d74b8</td>\n",
       "      <td>254.75</td>\n",
       "      <td>12903</td>\n",
       "      <td>254</td>\n",
       "      <td>117</td>\n",
       "      <td>0.02</td>\n",
       "      <td>1.00</td>\n",
       "      <td>2.18</td>\n",
       "    </tr>\n",
       "    <tr>\n",
       "      <th>2017-11-15</th>\n",
       "      <td>smartly</td>\n",
       "      <td>5a0ada56c7e28c71086d74b8</td>\n",
       "      <td>500.27</td>\n",
       "      <td>22922</td>\n",
       "      <td>365</td>\n",
       "      <td>184</td>\n",
       "      <td>0.02</td>\n",
       "      <td>1.37</td>\n",
       "      <td>2.72</td>\n",
       "    </tr>\n",
       "    <tr>\n",
       "      <th>2017-11-16</th>\n",
       "      <td>smartly</td>\n",
       "      <td>5a0ada56c7e28c71086d74b8</td>\n",
       "      <td>446.85</td>\n",
       "      <td>19455</td>\n",
       "      <td>403</td>\n",
       "      <td>170</td>\n",
       "      <td>0.02</td>\n",
       "      <td>1.11</td>\n",
       "      <td>2.63</td>\n",
       "    </tr>\n",
       "    <tr>\n",
       "      <th>2017-11-17</th>\n",
       "      <td>smartly</td>\n",
       "      <td>5a0ada56c7e28c71086d74b8</td>\n",
       "      <td>365.01</td>\n",
       "      <td>15387</td>\n",
       "      <td>257</td>\n",
       "      <td>95</td>\n",
       "      <td>0.02</td>\n",
       "      <td>1.42</td>\n",
       "      <td>3.84</td>\n",
       "    </tr>\n",
       "    <tr>\n",
       "      <th>2017-11-18</th>\n",
       "      <td>smartly</td>\n",
       "      <td>5a0ada56c7e28c71086d74b8</td>\n",
       "      <td>146.03</td>\n",
       "      <td>6659</td>\n",
       "      <td>101</td>\n",
       "      <td>36</td>\n",
       "      <td>0.02</td>\n",
       "      <td>1.45</td>\n",
       "      <td>4.06</td>\n",
       "    </tr>\n",
       "  </tbody>\n",
       "</table>\n",
       "</div>"
      ],
      "text/plain": [
       "               cell                adgroup_id   spent  impressions  clicks  \\\n",
       "date                                                                         \n",
       "2017-11-14  smartly  5a0ada56c7e28c71086d74b8  254.75        12903     254   \n",
       "2017-11-15  smartly  5a0ada56c7e28c71086d74b8  500.27        22922     365   \n",
       "2017-11-16  smartly  5a0ada56c7e28c71086d74b8  446.85        19455     403   \n",
       "2017-11-17  smartly  5a0ada56c7e28c71086d74b8  365.01        15387     257   \n",
       "2017-11-18  smartly  5a0ada56c7e28c71086d74b8  146.03         6659     101   \n",
       "\n",
       "            conversions   CPM   CPC   CPA  \n",
       "date                                       \n",
       "2017-11-14          117  0.02  1.00  2.18  \n",
       "2017-11-15          184  0.02  1.37  2.72  \n",
       "2017-11-16          170  0.02  1.11  2.63  \n",
       "2017-11-17           95  0.02  1.42  3.84  \n",
       "2017-11-18           36  0.02  1.45  4.06  "
      ]
     },
     "execution_count": 15,
     "metadata": {},
     "output_type": "execute_result"
    }
   ],
   "source": [
    "# creating a smartly dataframe and reindexing\n",
    "df_smartly = df[df['cell'] == 'smartly'].reset_index(drop=True)\n",
    "\n",
    "# creating a Cost per Click (CPC), Cost per Thousand Impressions (CPM) and Cost per Acquisition (CPA) cols\n",
    "df_smartly['CPM'] = round(df_smartly['spent'] / df_smartly['impressions'], 2)\n",
    "df_smartly['CPC'] = round(df_smartly['spent'] / df_smartly['clicks'], 2)\n",
    "df_smartly['CPA'] = round(df_smartly['spent'] / df_smartly['conversions'], 2)\n",
    "\n",
    "# set the index to date for timeseries plotting\n",
    "df_smartly = df_smartly.set_index('date')\n",
    "\n",
    "df_smartly.head()"
   ]
  },
  {
   "cell_type": "code",
   "execution_count": 16,
   "metadata": {},
   "outputs": [
    {
     "data": {
      "text/plain": [
       "(23, 9)"
      ]
     },
     "execution_count": 16,
     "metadata": {},
     "output_type": "execute_result"
    }
   ],
   "source": [
    "df_smartly.shape"
   ]
  },
  {
   "cell_type": "code",
   "execution_count": 17,
   "metadata": {},
   "outputs": [
    {
     "data": {
      "text/plain": [
       "3"
      ]
     },
     "execution_count": 17,
     "metadata": {},
     "output_type": "execute_result"
    }
   ],
   "source": [
    "# How many unique adgroups are there?\n",
    "\n",
    "df_smartly['adgroup_id'].nunique()"
   ]
  },
  {
   "cell_type": "markdown",
   "metadata": {},
   "source": [
    "Smartly ran 3 adgroups over the course of the study"
   ]
  },
  {
   "cell_type": "code",
   "execution_count": 18,
   "metadata": {},
   "outputs": [
    {
     "data": {
      "text/html": [
       "<div>\n",
       "<style scoped>\n",
       "    .dataframe tbody tr th:only-of-type {\n",
       "        vertical-align: middle;\n",
       "    }\n",
       "\n",
       "    .dataframe tbody tr th {\n",
       "        vertical-align: top;\n",
       "    }\n",
       "\n",
       "    .dataframe thead th {\n",
       "        text-align: right;\n",
       "    }\n",
       "</style>\n",
       "<table border=\"1\" class=\"dataframe\">\n",
       "  <thead>\n",
       "    <tr style=\"text-align: right;\">\n",
       "      <th></th>\n",
       "      <th>spent</th>\n",
       "      <th>impressions</th>\n",
       "      <th>clicks</th>\n",
       "      <th>conversions</th>\n",
       "      <th>CPM</th>\n",
       "      <th>CPC</th>\n",
       "      <th>CPA</th>\n",
       "    </tr>\n",
       "  </thead>\n",
       "  <tbody>\n",
       "    <tr>\n",
       "      <th>count</th>\n",
       "      <td>23.000000</td>\n",
       "      <td>23.000000</td>\n",
       "      <td>23.000000</td>\n",
       "      <td>23.000000</td>\n",
       "      <td>23.000000</td>\n",
       "      <td>23.000000</td>\n",
       "      <td>23.000000</td>\n",
       "    </tr>\n",
       "    <tr>\n",
       "      <th>mean</th>\n",
       "      <td>265.160870</td>\n",
       "      <td>13689.043478</td>\n",
       "      <td>314.391304</td>\n",
       "      <td>113.695652</td>\n",
       "      <td>0.019565</td>\n",
       "      <td>0.865652</td>\n",
       "      <td>2.406087</td>\n",
       "    </tr>\n",
       "    <tr>\n",
       "      <th>std</th>\n",
       "      <td>158.208504</td>\n",
       "      <td>7909.680677</td>\n",
       "      <td>179.914308</td>\n",
       "      <td>65.449102</td>\n",
       "      <td>0.002085</td>\n",
       "      <td>0.281147</td>\n",
       "      <td>0.759442</td>\n",
       "    </tr>\n",
       "    <tr>\n",
       "      <th>min</th>\n",
       "      <td>31.120000</td>\n",
       "      <td>1595.000000</td>\n",
       "      <td>32.000000</td>\n",
       "      <td>12.000000</td>\n",
       "      <td>0.010000</td>\n",
       "      <td>0.410000</td>\n",
       "      <td>0.640000</td>\n",
       "    </tr>\n",
       "    <tr>\n",
       "      <th>25%</th>\n",
       "      <td>165.775000</td>\n",
       "      <td>8251.000000</td>\n",
       "      <td>235.500000</td>\n",
       "      <td>74.500000</td>\n",
       "      <td>0.020000</td>\n",
       "      <td>0.685000</td>\n",
       "      <td>2.040000</td>\n",
       "    </tr>\n",
       "    <tr>\n",
       "      <th>50%</th>\n",
       "      <td>231.690000</td>\n",
       "      <td>12220.000000</td>\n",
       "      <td>287.000000</td>\n",
       "      <td>95.000000</td>\n",
       "      <td>0.020000</td>\n",
       "      <td>0.860000</td>\n",
       "      <td>2.590000</td>\n",
       "    </tr>\n",
       "    <tr>\n",
       "      <th>75%</th>\n",
       "      <td>413.055000</td>\n",
       "      <td>19152.000000</td>\n",
       "      <td>385.000000</td>\n",
       "      <td>169.000000</td>\n",
       "      <td>0.020000</td>\n",
       "      <td>0.970000</td>\n",
       "      <td>2.705000</td>\n",
       "    </tr>\n",
       "    <tr>\n",
       "      <th>max</th>\n",
       "      <td>509.340000</td>\n",
       "      <td>29493.000000</td>\n",
       "      <td>687.000000</td>\n",
       "      <td>257.000000</td>\n",
       "      <td>0.020000</td>\n",
       "      <td>1.450000</td>\n",
       "      <td>4.060000</td>\n",
       "    </tr>\n",
       "  </tbody>\n",
       "</table>\n",
       "</div>"
      ],
      "text/plain": [
       "            spent   impressions      clicks  conversions        CPM  \\\n",
       "count   23.000000     23.000000   23.000000    23.000000  23.000000   \n",
       "mean   265.160870  13689.043478  314.391304   113.695652   0.019565   \n",
       "std    158.208504   7909.680677  179.914308    65.449102   0.002085   \n",
       "min     31.120000   1595.000000   32.000000    12.000000   0.010000   \n",
       "25%    165.775000   8251.000000  235.500000    74.500000   0.020000   \n",
       "50%    231.690000  12220.000000  287.000000    95.000000   0.020000   \n",
       "75%    413.055000  19152.000000  385.000000   169.000000   0.020000   \n",
       "max    509.340000  29493.000000  687.000000   257.000000   0.020000   \n",
       "\n",
       "             CPC        CPA  \n",
       "count  23.000000  23.000000  \n",
       "mean    0.865652   2.406087  \n",
       "std     0.281147   0.759442  \n",
       "min     0.410000   0.640000  \n",
       "25%     0.685000   2.040000  \n",
       "50%     0.860000   2.590000  \n",
       "75%     0.970000   2.705000  \n",
       "max     1.450000   4.060000  "
      ]
     },
     "execution_count": 18,
     "metadata": {},
     "output_type": "execute_result"
    }
   ],
   "source": [
    "df_smartly.describe()"
   ]
  },
  {
   "cell_type": "code",
   "execution_count": 19,
   "metadata": {},
   "outputs": [
    {
     "data": {
      "image/png": "[encoded data removed]",
      "text/plain": [
       "<Figure size 432x288 with 1 Axes>"
      ]
     },
     "metadata": {
      "needs_background": "light"
     },
     "output_type": "display_data"
    }
   ],
   "source": [
    "# Visualizing the distribution of Cost per Acquisition\n",
    "\n",
    "sns.histplot(data=df_smartly, x=\"CPA\", bins=12)\n",
    "plt.show()"
   ]
  },
  {
   "cell_type": "code",
   "execution_count": 20,
   "metadata": {},
   "outputs": [
    {
     "data": {
      "image/png": "[encoded data removed]",
      "text/plain": [
       "<Figure size 432x288 with 1 Axes>"
      ]
     },
     "metadata": {
      "needs_background": "light"
     },
     "output_type": "display_data"
    }
   ],
   "source": [
    "'''A Q-Q plot is another way to test whether a sample set is\n",
    "   normally distributed. For this, we can compare the emperical (observed)\n",
    "   quantiles against the quantiles of the known (Normal) theoretical \n",
    "   quantiles'''\n",
    "\n",
    "sm.ProbPlot(df_smartly['CPA']).qqplot(line='s');"
   ]
  },
  {
   "cell_type": "markdown",
   "metadata": {},
   "source": [
    "#### While there are only 23 observations, it appears that the distribution might not be quite Gaussian"
   ]
  },
  {
   "cell_type": "code",
   "execution_count": 21,
   "metadata": {},
   "outputs": [
    {
     "data": {
      "text/html": [
       "<div>\n",
       "<style scoped>\n",
       "    .dataframe tbody tr th:only-of-type {\n",
       "        vertical-align: middle;\n",
       "    }\n",
       "\n",
       "    .dataframe tbody tr th {\n",
       "        vertical-align: top;\n",
       "    }\n",
       "\n",
       "    .dataframe thead th {\n",
       "        text-align: right;\n",
       "    }\n",
       "</style>\n",
       "<table border=\"1\" class=\"dataframe\">\n",
       "  <thead>\n",
       "    <tr style=\"text-align: right;\">\n",
       "      <th></th>\n",
       "      <th>spent</th>\n",
       "      <th>impressions</th>\n",
       "      <th>clicks</th>\n",
       "      <th>conversions</th>\n",
       "      <th>CPA</th>\n",
       "      <th>weekday</th>\n",
       "    </tr>\n",
       "    <tr>\n",
       "      <th>date</th>\n",
       "      <th></th>\n",
       "      <th></th>\n",
       "      <th></th>\n",
       "      <th></th>\n",
       "      <th></th>\n",
       "      <th></th>\n",
       "    </tr>\n",
       "  </thead>\n",
       "  <tbody>\n",
       "    <tr>\n",
       "      <th>2017-11-14</th>\n",
       "      <td>254.75</td>\n",
       "      <td>12903</td>\n",
       "      <td>254</td>\n",
       "      <td>117</td>\n",
       "      <td>2.18</td>\n",
       "      <td>Tuesday</td>\n",
       "    </tr>\n",
       "    <tr>\n",
       "      <th>2017-11-15</th>\n",
       "      <td>539.60</td>\n",
       "      <td>25175</td>\n",
       "      <td>460</td>\n",
       "      <td>245</td>\n",
       "      <td>2.20</td>\n",
       "      <td>Wednesday</td>\n",
       "    </tr>\n",
       "    <tr>\n",
       "      <th>2017-11-16</th>\n",
       "      <td>562.01</td>\n",
       "      <td>25647</td>\n",
       "      <td>664</td>\n",
       "      <td>284</td>\n",
       "      <td>1.98</td>\n",
       "      <td>Thursday</td>\n",
       "    </tr>\n",
       "    <tr>\n",
       "      <th>2017-11-17</th>\n",
       "      <td>599.78</td>\n",
       "      <td>26553</td>\n",
       "      <td>583</td>\n",
       "      <td>222</td>\n",
       "      <td>2.70</td>\n",
       "      <td>Friday</td>\n",
       "    </tr>\n",
       "    <tr>\n",
       "      <th>2017-11-18</th>\n",
       "      <td>590.10</td>\n",
       "      <td>25508</td>\n",
       "      <td>584</td>\n",
       "      <td>204</td>\n",
       "      <td>2.89</td>\n",
       "      <td>Saturday</td>\n",
       "    </tr>\n",
       "  </tbody>\n",
       "</table>\n",
       "</div>"
      ],
      "text/plain": [
       "             spent  impressions  clicks  conversions   CPA    weekday\n",
       "date                                                                 \n",
       "2017-11-14  254.75        12903     254          117  2.18    Tuesday\n",
       "2017-11-15  539.60        25175     460          245  2.20  Wednesday\n",
       "2017-11-16  562.01        25647     664          284  1.98   Thursday\n",
       "2017-11-17  599.78        26553     583          222  2.70     Friday\n",
       "2017-11-18  590.10        25508     584          204  2.89   Saturday"
      ]
     },
     "execution_count": 21,
     "metadata": {},
     "output_type": "execute_result"
    }
   ],
   "source": [
    "# For interest sakes, I wanted to see how CPA varies throughout the week\n",
    "# Are there any days that seem to perform better?\n",
    "\n",
    "# Resample all ad group data into 'days of the week'\n",
    "df_smartly_wkday = df_smartly.drop(columns=['CPM','CPC','CPA']).resample('D').sum()\n",
    "# Add col for a given day's CPA\n",
    "df_smartly_wkday['CPA'] = round(df_smartly_wkday['spent'] / df_smartly_wkday['conversions'], 2)\n",
    "# Add a col for the date's respective weekday\n",
    "df_smartly_wkday['weekday'] = pd.DatetimeIndex(df_smartly_wkday.index).to_series().dt.day_name()\n",
    "df_smartly_wkday.head()"
   ]
  },
  {
   "cell_type": "code",
   "execution_count": 22,
   "metadata": {
    "scrolled": true
   },
   "outputs": [
    {
     "data": {
      "image/png": "[encoded data removed]",
      "text/plain": [
       "<Figure size 648x288 with 1 Axes>"
      ]
     },
     "metadata": {},
     "output_type": "display_data"
    }
   ],
   "source": [
    "# Visualizing CPA by Day of the Week\n",
    "\n",
    "sns.set(rc={'figure.figsize':(9, 4)})\n",
    "order = ['Monday', 'Tuesday', 'Wednesday', 'Thursday', 'Friday', 'Saturday', 'Sunday']\n",
    "ax = sns.boxplot(x=\"weekday\", y=\"CPA\", data=df_smartly_wkday, order=order)\n",
    "plt.show()"
   ]
  },
  {
   "cell_type": "markdown",
   "metadata": {},
   "source": [
    "### Here we can see that Smartly's daily CPA varies little and is in the range of  \\\\$1.80 - \\\\$2.90"
   ]
  },
  {
   "cell_type": "code",
   "execution_count": 23,
   "metadata": {},
   "outputs": [
    {
     "name": "stdout",
     "output_type": "stream",
     "text": [
      "In total, Smartly spent $6098.70 on this ad study which generated 2615 conversions with an average CPA of $2.41\n"
     ]
    }
   ],
   "source": [
    "# Determining how much Smartly spent in total and the average CPA\n",
    "\n",
    "smartly_total_spend = df_smartly['spent'].sum()\n",
    "smartly_avg_cpa = df_smartly['CPA'].mean()\n",
    "smartly_tot_conv = df_smartly['conversions'].sum()\n",
    "\n",
    "print('In total, Smartly spent ${0:.2f} on this ad study which generated {1} conversions with an average CPA of ${2:.2f}'.format(smartly_total_spend,smartly_tot_conv,smartly_avg_cpa))"
   ]
  },
  {
   "cell_type": "code",
   "execution_count": 24,
   "metadata": {},
   "outputs": [],
   "source": [
    "# ROAS is another great way to quantify campaign performance\n",
    "# Return on ad spend (ROAS) calculation\n",
    "\n",
    "def return_on_ad_spend(ad_spend, conversions, rev_per_conv):\n",
    "    ROAS = (conversions * rev_per_conv) / ad_spend\n",
    "    return ROAS\n",
    "    "
   ]
  },
  {
   "cell_type": "code",
   "execution_count": 25,
   "metadata": {},
   "outputs": [
    {
     "name": "stdout",
     "output_type": "stream",
     "text": [
      "For every dollar spent on ads, Smartly generated $4.29 in revenue\n"
     ]
    }
   ],
   "source": [
    "# Sample calculation using a product priced at $10\n",
    "\n",
    "product_price = 10\n",
    "ROAS = return_on_ad_spend(smartly_total_spend, smartly_tot_conv, product_price)\n",
    "\n",
    "print('For every dollar spent on ads, Smartly generated ${0:.2f} in revenue'.format(ROAS))"
   ]
  },
  {
   "cell_type": "markdown",
   "metadata": {},
   "source": [
    "#### We could look at the ROAS for each individual adgroup, however, we're only focused on CPA for this assignment"
   ]
  },
  {
   "cell_type": "markdown",
   "metadata": {},
   "source": [
    "----"
   ]
  },
  {
   "cell_type": "markdown",
   "metadata": {},
   "source": [
    "# Nanigans"
   ]
  },
  {
   "cell_type": "code",
   "execution_count": 26,
   "metadata": {},
   "outputs": [
    {
     "data": {
      "text/html": [
       "<div>\n",
       "<style scoped>\n",
       "    .dataframe tbody tr th:only-of-type {\n",
       "        vertical-align: middle;\n",
       "    }\n",
       "\n",
       "    .dataframe tbody tr th {\n",
       "        vertical-align: top;\n",
       "    }\n",
       "\n",
       "    .dataframe thead th {\n",
       "        text-align: right;\n",
       "    }\n",
       "</style>\n",
       "<table border=\"1\" class=\"dataframe\">\n",
       "  <thead>\n",
       "    <tr style=\"text-align: right;\">\n",
       "      <th></th>\n",
       "      <th>cell</th>\n",
       "      <th>adgroup_id</th>\n",
       "      <th>spent</th>\n",
       "      <th>impressions</th>\n",
       "      <th>clicks</th>\n",
       "      <th>conversions</th>\n",
       "      <th>CPM</th>\n",
       "      <th>CPC</th>\n",
       "      <th>CPA</th>\n",
       "    </tr>\n",
       "    <tr>\n",
       "      <th>date</th>\n",
       "      <th></th>\n",
       "      <th></th>\n",
       "      <th></th>\n",
       "      <th></th>\n",
       "      <th></th>\n",
       "      <th></th>\n",
       "      <th></th>\n",
       "      <th></th>\n",
       "      <th></th>\n",
       "    </tr>\n",
       "  </thead>\n",
       "  <tbody>\n",
       "    <tr>\n",
       "      <th>2017-11-14</th>\n",
       "      <td>nanigans</td>\n",
       "      <td>5a0ad96be6b83b6df54da177</td>\n",
       "      <td>25.83</td>\n",
       "      <td>1026</td>\n",
       "      <td>19</td>\n",
       "      <td>6</td>\n",
       "      <td>0.03</td>\n",
       "      <td>1.36</td>\n",
       "      <td>4.30</td>\n",
       "    </tr>\n",
       "    <tr>\n",
       "      <th>2017-11-15</th>\n",
       "      <td>nanigans</td>\n",
       "      <td>5a0ad96be6b83b6df54da177</td>\n",
       "      <td>18.19</td>\n",
       "      <td>744</td>\n",
       "      <td>14</td>\n",
       "      <td>1</td>\n",
       "      <td>0.02</td>\n",
       "      <td>1.30</td>\n",
       "      <td>18.19</td>\n",
       "    </tr>\n",
       "    <tr>\n",
       "      <th>2017-11-21</th>\n",
       "      <td>nanigans</td>\n",
       "      <td>5a0ad96be6b83b6df54da177</td>\n",
       "      <td>5.55</td>\n",
       "      <td>272</td>\n",
       "      <td>1</td>\n",
       "      <td>0</td>\n",
       "      <td>0.02</td>\n",
       "      <td>5.55</td>\n",
       "      <td>inf</td>\n",
       "    </tr>\n",
       "    <tr>\n",
       "      <th>2017-11-14</th>\n",
       "      <td>nanigans</td>\n",
       "      <td>5a0ad96be6b83b6df54da179</td>\n",
       "      <td>27.93</td>\n",
       "      <td>1063</td>\n",
       "      <td>13</td>\n",
       "      <td>4</td>\n",
       "      <td>0.03</td>\n",
       "      <td>2.15</td>\n",
       "      <td>6.98</td>\n",
       "    </tr>\n",
       "    <tr>\n",
       "      <th>2017-11-15</th>\n",
       "      <td>nanigans</td>\n",
       "      <td>5a0ad96be6b83b6df54da179</td>\n",
       "      <td>17.14</td>\n",
       "      <td>702</td>\n",
       "      <td>5</td>\n",
       "      <td>3</td>\n",
       "      <td>0.02</td>\n",
       "      <td>3.43</td>\n",
       "      <td>5.71</td>\n",
       "    </tr>\n",
       "  </tbody>\n",
       "</table>\n",
       "</div>"
      ],
      "text/plain": [
       "                cell                adgroup_id  spent  impressions  clicks  \\\n",
       "date                                                                         \n",
       "2017-11-14  nanigans  5a0ad96be6b83b6df54da177  25.83         1026      19   \n",
       "2017-11-15  nanigans  5a0ad96be6b83b6df54da177  18.19          744      14   \n",
       "2017-11-21  nanigans  5a0ad96be6b83b6df54da177   5.55          272       1   \n",
       "2017-11-14  nanigans  5a0ad96be6b83b6df54da179  27.93         1063      13   \n",
       "2017-11-15  nanigans  5a0ad96be6b83b6df54da179  17.14          702       5   \n",
       "\n",
       "            conversions   CPM   CPC    CPA  \n",
       "date                                        \n",
       "2017-11-14            6  0.03  1.36   4.30  \n",
       "2017-11-15            1  0.02  1.30  18.19  \n",
       "2017-11-21            0  0.02  5.55    inf  \n",
       "2017-11-14            4  0.03  2.15   6.98  \n",
       "2017-11-15            3  0.02  3.43   5.71  "
      ]
     },
     "execution_count": 26,
     "metadata": {},
     "output_type": "execute_result"
    }
   ],
   "source": [
    "# Create nanigans dataframe\n",
    "df_nanigans = df[df['cell'] == 'nanigans'].reset_index(drop=True)\n",
    "\n",
    "# creating a Cost per Click (CPC), Cost per Thousand Impressions (CPM) and Cost per Acquisition (CPA) cols\n",
    "df_nanigans['CPM'] = round(df_nanigans['spent'] / df_nanigans['impressions'], 2)\n",
    "df_nanigans['CPC'] = round(df_nanigans['spent'] / df_nanigans['clicks'], 2)\n",
    "df_nanigans['CPA'] = round(df_nanigans['spent'] / df_nanigans['conversions'], 2)\n",
    "\n",
    "# set index to date for timeseries plotting\n",
    "df_nanigans = df_nanigans.set_index('date')\n",
    "\n",
    "df_nanigans.head()"
   ]
  },
  {
   "cell_type": "code",
   "execution_count": 27,
   "metadata": {},
   "outputs": [
    {
     "data": {
      "text/plain": [
       "(299, 9)"
      ]
     },
     "execution_count": 27,
     "metadata": {},
     "output_type": "execute_result"
    }
   ],
   "source": [
    "df_nanigans.shape"
   ]
  },
  {
   "cell_type": "code",
   "execution_count": 28,
   "metadata": {},
   "outputs": [
    {
     "data": {
      "text/plain": [
       "58"
      ]
     },
     "execution_count": 28,
     "metadata": {},
     "output_type": "execute_result"
    }
   ],
   "source": [
    "# How many unique adgroups are there?\n",
    "\n",
    "df_nanigans['adgroup_id'].nunique()"
   ]
  },
  {
   "cell_type": "code",
   "execution_count": 29,
   "metadata": {},
   "outputs": [
    {
     "data": {
      "text/html": [
       "<div>\n",
       "<style scoped>\n",
       "    .dataframe tbody tr th:only-of-type {\n",
       "        vertical-align: middle;\n",
       "    }\n",
       "\n",
       "    .dataframe tbody tr th {\n",
       "        vertical-align: top;\n",
       "    }\n",
       "\n",
       "    .dataframe thead th {\n",
       "        text-align: right;\n",
       "    }\n",
       "</style>\n",
       "<table border=\"1\" class=\"dataframe\">\n",
       "  <thead>\n",
       "    <tr style=\"text-align: right;\">\n",
       "      <th></th>\n",
       "      <th>spent</th>\n",
       "      <th>impressions</th>\n",
       "      <th>clicks</th>\n",
       "      <th>conversions</th>\n",
       "      <th>CPM</th>\n",
       "      <th>CPC</th>\n",
       "      <th>CPA</th>\n",
       "    </tr>\n",
       "  </thead>\n",
       "  <tbody>\n",
       "    <tr>\n",
       "      <th>count</th>\n",
       "      <td>299.000000</td>\n",
       "      <td>299.000000</td>\n",
       "      <td>299.000000</td>\n",
       "      <td>299.000000</td>\n",
       "      <td>299.000000</td>\n",
       "      <td>299.00</td>\n",
       "      <td>299.000</td>\n",
       "    </tr>\n",
       "    <tr>\n",
       "      <th>mean</th>\n",
       "      <td>19.898194</td>\n",
       "      <td>967.719064</td>\n",
       "      <td>19.652174</td>\n",
       "      <td>7.297659</td>\n",
       "      <td>0.021940</td>\n",
       "      <td>inf</td>\n",
       "      <td>inf</td>\n",
       "    </tr>\n",
       "    <tr>\n",
       "      <th>std</th>\n",
       "      <td>16.618609</td>\n",
       "      <td>916.272626</td>\n",
       "      <td>26.844308</td>\n",
       "      <td>8.437792</td>\n",
       "      <td>0.005141</td>\n",
       "      <td>NaN</td>\n",
       "      <td>NaN</td>\n",
       "    </tr>\n",
       "    <tr>\n",
       "      <th>min</th>\n",
       "      <td>0.040000</td>\n",
       "      <td>2.000000</td>\n",
       "      <td>0.000000</td>\n",
       "      <td>0.000000</td>\n",
       "      <td>0.010000</td>\n",
       "      <td>0.25</td>\n",
       "      <td>0.390</td>\n",
       "    </tr>\n",
       "    <tr>\n",
       "      <th>25%</th>\n",
       "      <td>7.465000</td>\n",
       "      <td>302.000000</td>\n",
       "      <td>2.000000</td>\n",
       "      <td>1.000000</td>\n",
       "      <td>0.020000</td>\n",
       "      <td>0.91</td>\n",
       "      <td>2.245</td>\n",
       "    </tr>\n",
       "    <tr>\n",
       "      <th>50%</th>\n",
       "      <td>15.480000</td>\n",
       "      <td>757.000000</td>\n",
       "      <td>10.000000</td>\n",
       "      <td>5.000000</td>\n",
       "      <td>0.020000</td>\n",
       "      <td>1.72</td>\n",
       "      <td>3.980</td>\n",
       "    </tr>\n",
       "    <tr>\n",
       "      <th>75%</th>\n",
       "      <td>27.420000</td>\n",
       "      <td>1251.500000</td>\n",
       "      <td>25.500000</td>\n",
       "      <td>10.500000</td>\n",
       "      <td>0.020000</td>\n",
       "      <td>3.25</td>\n",
       "      <td>9.580</td>\n",
       "    </tr>\n",
       "    <tr>\n",
       "      <th>max</th>\n",
       "      <td>88.410000</td>\n",
       "      <td>5487.000000</td>\n",
       "      <td>168.000000</td>\n",
       "      <td>50.000000</td>\n",
       "      <td>0.040000</td>\n",
       "      <td>inf</td>\n",
       "      <td>inf</td>\n",
       "    </tr>\n",
       "  </tbody>\n",
       "</table>\n",
       "</div>"
      ],
      "text/plain": [
       "            spent  impressions      clicks  conversions         CPM     CPC  \\\n",
       "count  299.000000   299.000000  299.000000   299.000000  299.000000  299.00   \n",
       "mean    19.898194   967.719064   19.652174     7.297659    0.021940     inf   \n",
       "std     16.618609   916.272626   26.844308     8.437792    0.005141     NaN   \n",
       "min      0.040000     2.000000    0.000000     0.000000    0.010000    0.25   \n",
       "25%      7.465000   302.000000    2.000000     1.000000    0.020000    0.91   \n",
       "50%     15.480000   757.000000   10.000000     5.000000    0.020000    1.72   \n",
       "75%     27.420000  1251.500000   25.500000    10.500000    0.020000    3.25   \n",
       "max     88.410000  5487.000000  168.000000    50.000000    0.040000     inf   \n",
       "\n",
       "           CPA  \n",
       "count  299.000  \n",
       "mean       inf  \n",
       "std        NaN  \n",
       "min      0.390  \n",
       "25%      2.245  \n",
       "50%      3.980  \n",
       "75%      9.580  \n",
       "max        inf  "
      ]
     },
     "execution_count": 29,
     "metadata": {},
     "output_type": "execute_result"
    }
   ],
   "source": [
    "df_nanigans.describe()"
   ]
  },
  {
   "cell_type": "markdown",
   "metadata": {},
   "source": [
    "#### From the summary description, we can see that nanigans used a cost per thousand impressions strategy for at least some adgroups, meaning that money was spent on ads that were viewed but neither clicked on nor converted. Additionally, we can see that several ads were clicked on but didn't convert (inf values)"
   ]
  },
  {
   "cell_type": "code",
   "execution_count": 30,
   "metadata": {},
   "outputs": [
    {
     "name": "stdout",
     "output_type": "stream",
     "text": [
      "Nanigans spent $0.73 on 34 ads that were viewed, but did not convert\n"
     ]
    }
   ],
   "source": [
    "# How much was spent on ads that were view, but neither clicked or converted?\n",
    "\n",
    "nanigans_CPM_nc_spend = df_nanigans.loc[df_nanigans['clicks'] == 0, 'CPM'].sum()\n",
    "nanigans_CPM_nc_count = df_nanigans.loc[df_nanigans['clicks'] == 0, 'CPM'].count()\n",
    "\n",
    "print('Nanigans spent ${0} on {1} ads that were viewed, but did not convert'.format(nanigans_CPM_nc_spend, nanigans_CPM_nc_count))"
   ]
  },
  {
   "cell_type": "code",
   "execution_count": 31,
   "metadata": {},
   "outputs": [
    {
     "data": {
      "text/plain": [
       "(265, 9)"
      ]
     },
     "execution_count": 31,
     "metadata": {},
     "output_type": "execute_result"
    }
   ],
   "source": [
    "# Removing rows for the 34 rows that totaled $0.73 in ad spend\n",
    "# These only really account for time spent on making the ads\n",
    "\n",
    "df_nanigans = df_nanigans[df_nanigans['clicks'] != 0]\n",
    "df_nanigans.shape"
   ]
  },
  {
   "cell_type": "markdown",
   "metadata": {},
   "source": [
    "#### While still important to account for, these 34 non-converting CPM ads will be dropped due to having a very small impact overall"
   ]
  },
  {
   "cell_type": "code",
   "execution_count": 32,
   "metadata": {},
   "outputs": [
    {
     "name": "stdout",
     "output_type": "stream",
     "text": [
      "Nanigans spent $111.85 on 25 ads that were clicked, but did not convert\n"
     ]
    }
   ],
   "source": [
    "# How much was spent on ads that were clicked, but didn't lead to a conversion?\n",
    "\n",
    "nanigans_CPC_nc_spend = df_nanigans.loc[(df_nanigans.clicks != 0) & (df_nanigans.conversions == 0), 'CPC'].sum()\n",
    "nanigans_CPC_nc_count = df_nanigans.loc[(df_nanigans.clicks != 0) & (df_nanigans.conversions == 0), 'CPC'].count()\n",
    "\n",
    "print('Nanigans spent ${0} on {1} ads that were clicked, but did not convert'.format(nanigans_CPC_nc_spend, nanigans_CPC_nc_count))"
   ]
  },
  {
   "cell_type": "markdown",
   "metadata": {},
   "source": [
    "#### Because the above adgroups were clicked, but didn't convert, they will still be included in the analysis when determining CPA"
   ]
  },
  {
   "cell_type": "code",
   "execution_count": 33,
   "metadata": {},
   "outputs": [
    {
     "data": {
      "image/png": "[encoded data removed]",
      "text/plain": [
       "<Figure size 648x288 with 1 Axes>"
      ]
     },
     "metadata": {},
     "output_type": "display_data"
    }
   ],
   "source": [
    "# Visualizing the distribution of Cost per Acquisition \n",
    "\n",
    "df_nanigans_conv_only = df_nanigans[df_nanigans['conversions'] != 0]\n",
    "\n",
    "ax = sns.histplot(data=df_nanigans_conv_only, x=\"CPA\")\n",
    "plt.show()"
   ]
  },
  {
   "cell_type": "code",
   "execution_count": 34,
   "metadata": {},
   "outputs": [
    {
     "data": {
      "image/png": "[encoded data removed]",
      "text/plain": [
       "<Figure size 648x288 with 1 Axes>"
      ]
     },
     "metadata": {},
     "output_type": "display_data"
    }
   ],
   "source": [
    "sm.ProbPlot(df_nanigans_conv_only['CPA']).qqplot(line='s');"
   ]
  },
  {
   "cell_type": "markdown",
   "metadata": {},
   "source": [
    "### The above plots show that the Nanigans distribution is clearly right-skewed due to some poorly performing ad groups"
   ]
  },
  {
   "cell_type": "code",
   "execution_count": 35,
   "metadata": {},
   "outputs": [
    {
     "data": {
      "text/html": [
       "<div>\n",
       "<style scoped>\n",
       "    .dataframe tbody tr th:only-of-type {\n",
       "        vertical-align: middle;\n",
       "    }\n",
       "\n",
       "    .dataframe tbody tr th {\n",
       "        vertical-align: top;\n",
       "    }\n",
       "\n",
       "    .dataframe thead th {\n",
       "        text-align: right;\n",
       "    }\n",
       "</style>\n",
       "<table border=\"1\" class=\"dataframe\">\n",
       "  <thead>\n",
       "    <tr style=\"text-align: right;\">\n",
       "      <th></th>\n",
       "      <th>spent</th>\n",
       "      <th>impressions</th>\n",
       "      <th>clicks</th>\n",
       "      <th>conversions</th>\n",
       "      <th>CPA</th>\n",
       "      <th>weekday</th>\n",
       "    </tr>\n",
       "    <tr>\n",
       "      <th>date</th>\n",
       "      <th></th>\n",
       "      <th></th>\n",
       "      <th></th>\n",
       "      <th></th>\n",
       "      <th></th>\n",
       "      <th></th>\n",
       "    </tr>\n",
       "  </thead>\n",
       "  <tbody>\n",
       "    <tr>\n",
       "      <th>2017-11-14</th>\n",
       "      <td>511.00</td>\n",
       "      <td>19604</td>\n",
       "      <td>275</td>\n",
       "      <td>119</td>\n",
       "      <td>4.29</td>\n",
       "      <td>Tuesday</td>\n",
       "    </tr>\n",
       "    <tr>\n",
       "      <th>2017-11-15</th>\n",
       "      <td>505.12</td>\n",
       "      <td>18681</td>\n",
       "      <td>265</td>\n",
       "      <td>107</td>\n",
       "      <td>4.72</td>\n",
       "      <td>Wednesday</td>\n",
       "    </tr>\n",
       "    <tr>\n",
       "      <th>2017-11-16</th>\n",
       "      <td>455.20</td>\n",
       "      <td>18175</td>\n",
       "      <td>237</td>\n",
       "      <td>94</td>\n",
       "      <td>4.84</td>\n",
       "      <td>Thursday</td>\n",
       "    </tr>\n",
       "    <tr>\n",
       "      <th>2017-11-17</th>\n",
       "      <td>516.59</td>\n",
       "      <td>21008</td>\n",
       "      <td>368</td>\n",
       "      <td>170</td>\n",
       "      <td>3.04</td>\n",
       "      <td>Friday</td>\n",
       "    </tr>\n",
       "    <tr>\n",
       "      <th>2017-11-18</th>\n",
       "      <td>508.36</td>\n",
       "      <td>21932</td>\n",
       "      <td>474</td>\n",
       "      <td>246</td>\n",
       "      <td>2.07</td>\n",
       "      <td>Saturday</td>\n",
       "    </tr>\n",
       "  </tbody>\n",
       "</table>\n",
       "</div>"
      ],
      "text/plain": [
       "             spent  impressions  clicks  conversions   CPA    weekday\n",
       "date                                                                 \n",
       "2017-11-14  511.00        19604     275          119  4.29    Tuesday\n",
       "2017-11-15  505.12        18681     265          107  4.72  Wednesday\n",
       "2017-11-16  455.20        18175     237           94  4.84   Thursday\n",
       "2017-11-17  516.59        21008     368          170  3.04     Friday\n",
       "2017-11-18  508.36        21932     474          246  2.07   Saturday"
      ]
     },
     "execution_count": 35,
     "metadata": {},
     "output_type": "execute_result"
    }
   ],
   "source": [
    "# Extracting Day of the Week to see any trends based on day of the week\n",
    "\n",
    "df_nanigans_wkday = df_nanigans.drop(columns=['CPM','CPC','CPA']).resample('D').sum()\n",
    "df_nanigans_wkday['CPA'] = round(df_nanigans_wkday['spent'] / df_nanigans_wkday['conversions'], 2)\n",
    "df_nanigans_wkday['weekday'] = pd.DatetimeIndex(df_nanigans_wkday.index).to_series().dt.day_name()\n",
    "df_nanigans_wkday.head()"
   ]
  },
  {
   "cell_type": "code",
   "execution_count": 36,
   "metadata": {
    "scrolled": true
   },
   "outputs": [
    {
     "data": {
      "image/png": "[encoded data removed]",
      "text/plain": [
       "<Figure size 648x288 with 1 Axes>"
      ]
     },
     "metadata": {},
     "output_type": "display_data"
    }
   ],
   "source": [
    "# Visualizing CPA by Day of the Week\n",
    "\n",
    "sns.set(rc={'figure.figsize':(9, 4)})\n",
    "order = ['Monday', 'Tuesday', 'Wednesday', 'Thursday', 'Friday', 'Saturday', 'Sunday']\n",
    "ax = sns.boxplot(x=\"weekday\", y=\"CPA\", data=df_nanigans_wkday, order=order)\n",
    "plt.show()"
   ]
  },
  {
   "cell_type": "markdown",
   "metadata": {},
   "source": [
    "#### Here we can see that Nanigan's daily CPA varies more than Smartly throughout the week in the range of  \\\\$1.80 - \\\\$4.80\n"
   ]
  },
  {
   "cell_type": "code",
   "execution_count": 37,
   "metadata": {},
   "outputs": [
    {
     "name": "stdout",
     "output_type": "stream",
     "text": [
      "In total, Nanigans spent $5911.35 on this ad study which generated 2182 conversions and a CPA of $2.71\n"
     ]
    }
   ],
   "source": [
    "nanigans_tot_spend = df_nanigans['spent'].sum()\n",
    "nanigans_tot_conv = df_nanigans['conversions'].sum()\n",
    "nanigans_cpa = nanigans_tot_spend / nanigans_tot_conv\n",
    "\n",
    "print('In total, Nanigans spent ${0:.2f} on this ad study which generated {1} conversions and a CPA of ${2:.2f}'.format(nanigans_tot_spend,nanigans_tot_conv, nanigans_cpa))"
   ]
  },
  {
   "cell_type": "code",
   "execution_count": 38,
   "metadata": {},
   "outputs": [
    {
     "name": "stdout",
     "output_type": "stream",
     "text": [
      "For every dollar spent on ads, Nanigans generated $3.69 in revenue\n"
     ]
    }
   ],
   "source": [
    "# Sample calculation using a product priced at $10 \n",
    "\n",
    "product_price = 10 # must be same as Smartly product to compare\n",
    "ROAS = return_on_ad_spend(nanigans_tot_spend, nanigans_tot_conv, product_price)\n",
    "\n",
    "print('For every dollar spent on ads, Nanigans generated ${0:.2f} in revenue'.format(ROAS))"
   ]
  },
  {
   "cell_type": "markdown",
   "metadata": {},
   "source": [
    "#### For this sample product that sells for \\\\$10 , Nanigans brought in ~15% less in revenue per dollar spent than Smartly's campaigns"
   ]
  },
  {
   "cell_type": "markdown",
   "metadata": {},
   "source": [
    "----"
   ]
  },
  {
   "cell_type": "markdown",
   "metadata": {},
   "source": [
    "# 3) Making comparisons and checking significance"
   ]
  },
  {
   "cell_type": "markdown",
   "metadata": {},
   "source": [
    "### Visualizing ad spend between the two FMPs"
   ]
  },
  {
   "cell_type": "code",
   "execution_count": 43,
   "metadata": {},
   "outputs": [
    {
     "name": "stderr",
     "output_type": "stream",
     "text": [
      "BokehDeprecationWarning: 'legend' keyword is deprecated, use explicit 'legend_label', 'legend_field', or 'legend_group' keywords instead\n",
      "BokehDeprecationWarning: 'legend' keyword is deprecated, use explicit 'legend_label', 'legend_field', or 'legend_group' keywords instead\n"
     ]
    },
    {
     "data": {
      "text/html": [
       "\n",
       "\n",
       "\n",
       "\n",
       "\n",
       "\n",
       "  <div class=\"bk-root\" id=\"214fb3e3-81e4-4640-9946-625aee8918ea\" data-root-id=\"1499\"></div>\n"
      ]
     },
     "metadata": {},
     "output_type": "display_data"
    },
    {
     "data": {
      "application/javascript": [
       "(function(root) {\n",
       "  function embed_document(root) {\n",
       "    \n",
       "  var docs_json = {\"b4b600fd-ec9c-4d46-a131-cb86f9966f97\":{\"defs\":[],\"roots\":{\"references\":[{\"attributes\":{\"below\":[{\"id\":\"1510\"}],\"center\":[{\"id\":\"1513\"},{\"id\":\"1517\"},{\"id\":\"1559\"}],\"left\":[{\"id\":\"1514\"}],\"renderers\":[{\"id\":\"1535\"},{\"id\":\"1564\"}],\"title\":{\"id\":\"1500\"},\"toolbar\":{\"id\":\"1525\"},\"x_range\":{\"id\":\"1502\"},\"x_scale\":{\"id\":\"1506\"},\"y_range\":{\"id\":\"1504\"},\"y_scale\":{\"id\":\"1508\"}},\"id\":\"1499\",\"subtype\":\"Figure\",\"type\":\"Plot\"},{\"attributes\":{\"source\":{\"id\":\"1561\"}},\"id\":\"1565\",\"type\":\"CDSView\"},{\"attributes\":{},\"id\":\"1515\",\"type\":\"BasicTicker\"},{\"attributes\":{\"base\":24,\"mantissas\":[1,2,4,6,8,12],\"max_interval\":43200000.0,\"min_interval\":3600000.0,\"num_minor_ticks\":0},\"id\":\"1547\",\"type\":\"AdaptiveTicker\"},{\"attributes\":{\"data_source\":{\"id\":\"1532\"},\"glyph\":{\"id\":\"1533\"},\"hover_glyph\":null,\"muted_glyph\":null,\"nonselection_glyph\":{\"id\":\"1534\"},\"view\":{\"id\":\"1536\"}},\"id\":\"1535\",\"type\":\"GlyphRenderer\"},{\"attributes\":{\"days\":[1,2,3,4,5,6,7,8,9,10,11,12,13,14,15,16,17,18,19,20,21,22,23,24,25,26,27,28,29,30,31]},\"id\":\"1548\",\"type\":\"DaysTicker\"},{\"attributes\":{\"label\":{\"value\":\"Nanigans\"},\"renderers\":[{\"id\":\"1564\"}]},\"id\":\"1590\",\"type\":\"LegendItem\"},{\"attributes\":{\"days\":[1,4,7,10,13,16,19,22,25,28]},\"id\":\"1549\",\"type\":\"DaysTicker\"},{\"attributes\":{\"fill_color\":{\"value\":\"#1f77b4\"},\"line_color\":{\"value\":\"purple\"},\"line_width\":{\"value\":3},\"x\":{\"field\":\"x\"},\"y\":{\"field\":\"y\"}},\"id\":\"1533\",\"type\":\"Circle\"},{\"attributes\":{\"days\":[1,15]},\"id\":\"1551\",\"type\":\"DaysTicker\"},{\"attributes\":{\"mantissas\":[1,2,5],\"max_interval\":500.0,\"num_minor_ticks\":0},\"id\":\"1545\",\"type\":\"AdaptiveTicker\"},{\"attributes\":{\"days\":[1,8,15,22]},\"id\":\"1550\",\"type\":\"DaysTicker\"},{\"attributes\":{},\"id\":\"1557\",\"type\":\"UnionRenderers\"},{\"attributes\":{},\"id\":\"1543\",\"type\":\"BasicTickFormatter\"},{\"attributes\":{},\"id\":\"1556\",\"type\":\"YearsTicker\"},{\"attributes\":{\"bottom_units\":\"screen\",\"fill_alpha\":0.5,\"fill_color\":\"lightgrey\",\"left_units\":\"screen\",\"level\":\"overlay\",\"line_alpha\":1.0,\"line_color\":\"black\",\"line_dash\":[4,4],\"line_width\":2,\"right_units\":\"screen\",\"syncable\":false,\"top_units\":\"screen\"},\"id\":\"1524\",\"type\":\"BoxAnnotation\"},{\"attributes\":{\"months\":[0,6]},\"id\":\"1555\",\"type\":\"MonthsTicker\"},{\"attributes\":{},\"id\":\"1508\",\"type\":\"LinearScale\"},{\"attributes\":{},\"id\":\"1504\",\"type\":\"DataRange1d\"},{\"attributes\":{},\"id\":\"1558\",\"type\":\"Selection\"},{\"attributes\":{\"overlay\":{\"id\":\"1524\"}},\"id\":\"1521\",\"type\":\"BoxZoomTool\"},{\"attributes\":{\"base\":60,\"mantissas\":[1,2,5,10,15,20,30],\"max_interval\":1800000.0,\"min_interval\":1000.0,\"num_minor_ticks\":0},\"id\":\"1546\",\"type\":\"AdaptiveTicker\"},{\"attributes\":{\"active_multi\":null,\"tools\":[{\"id\":\"1518\"},{\"id\":\"1519\"},{\"id\":\"1520\"},{\"id\":\"1521\"},{\"id\":\"1522\"},{\"id\":\"1523\"}]},\"id\":\"1525\",\"type\":\"Toolbar\"},{\"attributes\":{},\"id\":\"1506\",\"type\":\"LinearScale\"},{\"attributes\":{\"axis\":{\"id\":\"1514\"},\"dimension\":1,\"ticker\":null},\"id\":\"1517\",\"type\":\"Grid\"},{\"attributes\":{\"data\":{\"x\":{\"__ndarray__\":\"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\",\"dtype\":\"float64\",\"order\":\"little\",\"shape\":[265]},\"y\":{\"__ndarray__\":\"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\",\"dtype\":\"float64\",\"order\":\"little\",\"shape\":[265]}},\"selected\":{\"id\":\"1589\"},\"selection_policy\":{\"id\":\"1588\"}},\"id\":\"1561\",\"type\":\"ColumnDataSource\"},{\"attributes\":{},\"id\":\"1588\",\"type\":\"UnionRenderers\"},{\"attributes\":{\"text\":\"Ad Spend\"},\"id\":\"1500\",\"type\":\"Title\"},{\"attributes\":{\"axis_label\":\"Date\",\"formatter\":{\"id\":\"1540\"},\"major_label_policy\":{\"id\":\"1539\"},\"ticker\":{\"id\":\"1511\"}},\"id\":\"1510\",\"type\":\"DatetimeAxis\"},{\"attributes\":{\"months\":[0,2,4,6,8,10]},\"id\":\"1553\",\"type\":\"MonthsTicker\"},{\"attributes\":{},\"id\":\"1520\",\"type\":\"PanTool\"},{\"attributes\":{\"axis\":{\"id\":\"1510\"},\"ticker\":null},\"id\":\"1513\",\"type\":\"Grid\"},{\"attributes\":{},\"id\":\"1519\",\"type\":\"SaveTool\"},{\"attributes\":{},\"id\":\"1522\",\"type\":\"ResetTool\"},{\"attributes\":{},\"id\":\"1539\",\"type\":\"AllLabels\"},{\"attributes\":{\"fill_alpha\":{\"value\":0.1},\"fill_color\":{\"value\":\"#1f77b4\"},\"line_alpha\":{\"value\":0.1},\"line_color\":{\"value\":\"purple\"},\"line_width\":{\"value\":3},\"x\":{\"field\":\"x\"},\"y\":{\"field\":\"y\"}},\"id\":\"1534\",\"type\":\"Circle\"},{\"attributes\":{},\"id\":\"1589\",\"type\":\"Selection\"},{\"attributes\":{\"axis_label\":\"Ad Spend (USD)\",\"formatter\":{\"id\":\"1543\"},\"major_label_policy\":{\"id\":\"1542\"},\"ticker\":{\"id\":\"1515\"}},\"id\":\"1514\",\"type\":\"LinearAxis\"},{\"attributes\":{\"data\":{\"x\":{\"__ndarray__\":\"AAAANX37dUIAAMCaz/t1QgAAgAAi/HVCAABAZnT8dUIAAADMxvx1QgAAwDEZ/XVCAACAl2v9dUIAAED9vf11QgAAwJrP+3VCAACAACL8dUIAAEBmdPx1QgAAAMzG/HVCAADAMRn9dUIAAICXa/11QgAAgJdr/XVCAABA/b39dUIAAABjEP51QgAAwMhi/nVCAACALrX+dUIAAECUB/91QgAAAPpZ/3VCAADAX6z/dUIAAIDF/v91Qg==\",\"dtype\":\"float64\",\"order\":\"little\",\"shape\":[23]},\"y\":{\"__ndarray__\":\"AAAAAADYb0C4HoXrUUR/QJqZmZmZ7XtAXI/C9SjQdkApXI/C9UBiQBSuR+F6FFlA9ihcj8KFU0AfhetRuB4/QArXo3A9qkNACtejcD3KXEBxPQrXo1htQIXrUbgewXtAPQrXo3DVf0CkcD0K17ttQK5H4XoUbmdAcT0K16Pgd0DD9Shcj1J/QArXo3A9tn9ArkfhehT2bEBxPQrXozBnQB+F61G4BmlAmpmZmZnxZ0DXo3A9ChdqQA==\",\"dtype\":\"float64\",\"order\":\"little\",\"shape\":[23]}},\"selected\":{\"id\":\"1558\"},\"selection_policy\":{\"id\":\"1557\"}},\"id\":\"1532\",\"type\":\"ColumnDataSource\"},{\"attributes\":{\"months\":[0,4,8]},\"id\":\"1554\",\"type\":\"MonthsTicker\"},{\"attributes\":{},\"id\":\"1502\",\"type\":\"DataRange1d\"},{\"attributes\":{\"source\":{\"id\":\"1532\"}},\"id\":\"1536\",\"type\":\"CDSView\"},{\"attributes\":{},\"id\":\"1542\",\"type\":\"AllLabels\"},{\"attributes\":{\"label\":{\"value\":\"Smartly\"},\"renderers\":[{\"id\":\"1535\"}]},\"id\":\"1560\",\"type\":\"LegendItem\"},{\"attributes\":{},\"id\":\"1523\",\"type\":\"WheelZoomTool\"},{\"attributes\":{\"num_minor_ticks\":5,\"tickers\":[{\"id\":\"1545\"},{\"id\":\"1546\"},{\"id\":\"1547\"},{\"id\":\"1548\"},{\"id\":\"1549\"},{\"id\":\"1550\"},{\"id\":\"1551\"},{\"id\":\"1552\"},{\"id\":\"1553\"},{\"id\":\"1554\"},{\"id\":\"1555\"},{\"id\":\"1556\"}]},\"id\":\"1511\",\"type\":\"DatetimeTicker\"},{\"attributes\":{\"fill_color\":{\"value\":\"#1f77b4\"},\"line_color\":{\"value\":\"blue\"},\"line_width\":{\"value\":3},\"x\":{\"field\":\"x\"},\"y\":{\"field\":\"y\"}},\"id\":\"1562\",\"type\":\"Circle\"},{\"attributes\":{\"items\":[{\"id\":\"1560\"},{\"id\":\"1590\"}],\"location\":\"top_left\"},\"id\":\"1559\",\"type\":\"Legend\"},{\"attributes\":{},\"id\":\"1518\",\"type\":\"CrosshairTool\"},{\"attributes\":{\"data_source\":{\"id\":\"1561\"},\"glyph\":{\"id\":\"1562\"},\"hover_glyph\":null,\"muted_glyph\":null,\"nonselection_glyph\":{\"id\":\"1563\"},\"view\":{\"id\":\"1565\"}},\"id\":\"1564\",\"type\":\"GlyphRenderer\"},{\"attributes\":{},\"id\":\"1540\",\"type\":\"DatetimeTickFormatter\"},{\"attributes\":{\"months\":[0,1,2,3,4,5,6,7,8,9,10,11]},\"id\":\"1552\",\"type\":\"MonthsTicker\"},{\"attributes\":{\"fill_alpha\":{\"value\":0.1},\"fill_color\":{\"value\":\"#1f77b4\"},\"line_alpha\":{\"value\":0.1},\"line_color\":{\"value\":\"blue\"},\"line_width\":{\"value\":3},\"x\":{\"field\":\"x\"},\"y\":{\"field\":\"y\"}},\"id\":\"1563\",\"type\":\"Circle\"}],\"root_ids\":[\"1499\"]},\"title\":\"Bokeh Application\",\"version\":\"2.3.1\"}};\n",
       "  var render_items = [{\"docid\":\"b4b600fd-ec9c-4d46-a131-cb86f9966f97\",\"root_ids\":[\"1499\"],\"roots\":{\"1499\":\"214fb3e3-81e4-4640-9946-625aee8918ea\"}}];\n",
       "  root.Bokeh.embed.embed_items_notebook(docs_json, render_items);\n",
       "\n",
       "  }\n",
       "  if (root.Bokeh !== undefined) {\n",
       "    embed_document(root);\n",
       "  } else {\n",
       "    var attempts = 0;\n",
       "    var timer = setInterval(function(root) {\n",
       "      if (root.Bokeh !== undefined) {\n",
       "        clearInterval(timer);\n",
       "        embed_document(root);\n",
       "      } else {\n",
       "        attempts++;\n",
       "        if (attempts > 100) {\n",
       "          clearInterval(timer);\n",
       "          console.log(\"Bokeh: ERROR: Unable to run BokehJS code because BokehJS library is missing\");\n",
       "        }\n",
       "      }\n",
       "    }, 10, root)\n",
       "  }\n",
       "})(window);"
      ],
      "application/vnd.bokehjs_exec.v0+json": ""
     },
     "metadata": {
      "application/vnd.bokehjs_exec.v0+json": {
       "id": "1499"
      }
     },
     "output_type": "display_data"
    }
   ],
   "source": [
    "TOOLS = 'crosshair,save,pan,box_zoom,reset,wheel_zoom'\n",
    "p = figure(title=\"Ad Spend\", y_axis_type=\"linear\",x_axis_type='datetime', tools = TOOLS)\n",
    "\n",
    "p.circle(df_smartly.index, df_smartly.spent, legend=\"Smartly\", line_color=\"purple\", line_width = 3)\n",
    "p.circle(df_nanigans.index, df_nanigans.spent, legend=\"Nanigans\", line_color=\"blue\", line_width = 3)\n",
    "\n",
    "p.legend.location = \"top_left\"\n",
    "\n",
    "p.xaxis.axis_label = 'Date'\n",
    "p.yaxis.axis_label = 'Ad Spend (USD)'\n",
    "\n",
    "show(p)"
   ]
  },
  {
   "cell_type": "markdown",
   "metadata": {},
   "source": [
    "## Visualizing Clicks between the two FMPs"
   ]
  },
  {
   "cell_type": "code",
   "execution_count": 44,
   "metadata": {},
   "outputs": [
    {
     "name": "stderr",
     "output_type": "stream",
     "text": [
      "BokehDeprecationWarning: 'legend' keyword is deprecated, use explicit 'legend_label', 'legend_field', or 'legend_group' keywords instead\n",
      "BokehDeprecationWarning: 'legend' keyword is deprecated, use explicit 'legend_label', 'legend_field', or 'legend_group' keywords instead\n"
     ]
    },
    {
     "data": {
      "text/html": [
       "\n",
       "\n",
       "\n",
       "\n",
       "\n",
       "\n",
       "  <div class=\"bk-root\" id=\"e13bc2f3-a9d9-4c14-b276-a6146a76885d\" data-root-id=\"1783\"></div>\n"
      ]
     },
     "metadata": {},
     "output_type": "display_data"
    },
    {
     "data": {
      "application/javascript": [
       "(function(root) {\n",
       "  function embed_document(root) {\n",
       "    \n",
       "  var docs_json = {\"278fac91-09a1-454e-880e-781b75f8fa23\":{\"defs\":[],\"roots\":{\"references\":[{\"attributes\":{\"below\":[{\"id\":\"1794\"}],\"center\":[{\"id\":\"1797\"},{\"id\":\"1801\"},{\"id\":\"1843\"}],\"left\":[{\"id\":\"1798\"}],\"renderers\":[{\"id\":\"1819\"},{\"id\":\"1848\"}],\"title\":{\"id\":\"1784\"},\"toolbar\":{\"id\":\"1809\"},\"x_range\":{\"id\":\"1786\"},\"x_scale\":{\"id\":\"1790\"},\"y_range\":{\"id\":\"1788\"},\"y_scale\":{\"id\":\"1792\"}},\"id\":\"1783\",\"subtype\":\"Figure\",\"type\":\"Plot\"},{\"attributes\":{},\"id\":\"1823\",\"type\":\"AllLabels\"},{\"attributes\":{},\"id\":\"1841\",\"type\":\"UnionRenderers\"},{\"attributes\":{},\"id\":\"1824\",\"type\":\"DatetimeTickFormatter\"},{\"attributes\":{\"label\":{\"value\":\"Smartly\"},\"renderers\":[{\"id\":\"1819\"}]},\"id\":\"1844\",\"type\":\"LegendItem\"},{\"attributes\":{\"items\":[{\"id\":\"1844\"},{\"id\":\"1874\"}],\"location\":\"top_left\"},\"id\":\"1843\",\"type\":\"Legend\"},{\"attributes\":{\"fill_color\":{\"value\":\"#1f77b4\"},\"line_color\":{\"value\":\"purple\"},\"line_width\":{\"value\":3},\"x\":{\"field\":\"x\"},\"y\":{\"field\":\"y\"}},\"id\":\"1817\",\"type\":\"Circle\"},{\"attributes\":{},\"id\":\"1790\",\"type\":\"LinearScale\"},{\"attributes\":{\"data\":{\"x\":{\"__ndarray__\":\"AAAANX37dUIAAMCaz/t1QgAAQP29/XVCAAAANX37dUIAAMCaz/t1QgAAADV9+3VCAADAms/7dUIAAAA1fft1QgAAwJrP+3VCAAAANX37dUIAAMCaz/t1QgAAQP29/XVCAAAANX37dUIAAMCaz/t1QgAAQP29/XVCAAAANX37dUIAAMCaz/t1QgAAgAAi/HVCAABAZnT8dUIAAADMxvx1QgAAwDEZ/XVCAACAl2v9dUIAAAA1fft1QgAAwJrP+3VCAABA/b39dUIAAAA1fft1QgAAwJrP+3VCAABAZnT8dUIAAADMxvx1QgAAwDEZ/XVCAACAl2v9dUIAAAA1fft1QgAAwJrP+3VCAACAACL8dUIAAAA1fft1QgAAwJrP+3VCAACAACL8dUIAAEBmdPx1QgAAAMzG/HVCAACAl2v9dUIAAAA1fft1QgAAwJrP+3VCAACAACL8dUIAAEBmdPx1QgAAAMzG/HVCAACAl2v9dUIAAAA1fft1QgAAwJrP+3VCAACAACL8dUIAAEBmdPx1QgAAQP29/XVCAAAANX37dUIAAMCaz/t1QgAAgAAi/HVCAABAZnT8dUIAAADMxvx1QgAAwDEZ/XVCAACAl2v9dUIAAED9vf11QgAAADV9+3VCAADAms/7dUIAAAA1fft1QgAAwJrP+3VCAADAms/7dUIAAAA1fft1QgAAwJrP+3VCAAAANX37dUIAAMCaz/t1QgAAADV9+3VCAADAms/7dUIAAIAAIvx1QgAAQGZ0/HVCAAAANX37dUIAAAA1fft1QgAAwJrP+3VCAABAZnT8dUIAAADMxvx1QgAAwDEZ/XVCAAAANX37dUIAAMCaz/t1QgAAgAAi/HVCAABAZnT8dUIAAMAxGf11QgAAgJdr/XVCAAAANX37dUIAAMCaz/t1QgAAgAAi/HVCAABAZnT8dUIAAMAxGf11QgAAADV9+3VCAADAms/7dUIAAIAAIvx1QgAAADV9+3VCAADAms/7dUIAAIAAIvx1QgAAQGZ0/HVCAAAANX37dUIAAMCaz/t1QgAAgAAi/HVCAABAZnT8dUIAAEBmdPx1QgAAAMzG/HVCAADAMRn9dUIAAICXa/11QgAAQGZ0/HVCAAAAzMb8dUIAAMAxGf11QgAAgJdr/XVCAABAZnT8dUIAAADMxvx1QgAAwDEZ/XVCAACAl2v9dUIAAEBmdPx1QgAAAMzG/HVCAADAMRn9dUIAAICXa/11QgAAQGZ0/HVCAAAAzMb8dUIAAMAxGf11QgAAgJdr/XVCAABAZnT8dUIAAADMxvx1QgAAwDEZ/XVCAACAl2v9dUIAAEBmdPx1QgAAAMzG/HVCAADAMRn9dUIAAICXa/11QgAAQGZ0/HVCAAAAzMb8dUIAAMAxGf11QgAAgJdr/XVCAABAZnT8dUIAAADMxvx1QgAAwDEZ/XVCAACAl2v9dUIAAEBmdPx1QgAAAMzG/HVCAACAl2v9dUIAAEBmdPx1QgAAAMzG/HVCAADAMRn9dUIAAICXa/11QgAAQGZ0/HVCAAAAzMb8dUIAAMAxGf11QgAAgJdr/XVCAABAZnT8dUIAAADMxvx1QgAAwDEZ/XVCAACAl2v9dUIAAADMxvx1QgAAwDEZ/XVCAACAl2v9dUIAAEBmdPx1QgAAAMzG/HVCAADAMRn9dUIAAICXa/11QgAAQGZ0/HVCAAAAzMb8dUIAAMAxGf11QgAAQGZ0/HVCAAAAzMb8dUIAAMAxGf11QgAAgJdr/XVCAABAZnT8dUIAAADMxvx1QgAAwDEZ/XVCAACAl2v9dUIAAICXa/11QgAAQP29/XVCAAAAYxD+dUIAAMDIYv51QgAAgC61/nVCAABAlAf/dUIAAAD6Wf91QgAAwF+s/3VCAACAxf7/dUIAAICXa/11QgAAQP29/XVCAAAAYxD+dUIAAMDIYv51QgAAgC61/nVCAABAlAf/dUIAAAD6Wf91QgAAwF+s/3VCAACAxf7/dUIAAICXa/11QgAAQP29/XVCAAAAYxD+dUIAAMDIYv51QgAAgC61/nVCAABAlAf/dUIAAAD6Wf91QgAAwF+s/3VCAACAxf7/dUIAAICXa/11QgAAQP29/XVCAAAAYxD+dUIAAMDIYv51QgAAgC61/nVCAABAlAf/dUIAAAD6Wf91QgAAwF+s/3VCAACAxf7/dUIAAICXa/11QgAAQP29/XVCAAAAYxD+dUIAAMDIYv51QgAAgC61/nVCAABAlAf/dUIAAAD6Wf91QgAAwF+s/3VCAACAxf7/dUIAAICXa/11QgAAQP29/XVCAAAAYxD+dUIAAMDIYv51QgAAgC61/nVCAABAlAf/dUIAAAD6Wf91QgAAwF+s/3VCAACAl2v9dUIAAED9vf11QgAAAGMQ/nVCAADAyGL+dUIAAIAutf51QgAAQJQH/3VCAAAA+ln/dUIAAIDF/v91QgAAgJdr/XVCAAAAYxD+dUIAAMDIYv51QgAAgC61/nVCAABAlAf/dUIAAAD6Wf91QgAAwF+s/3VCAACAxf7/dUIAAICXa/11QgAAQP29/XVCAAAAYxD+dUIAAMDIYv51QgAAgMX+/3VCAACAl2v9dUIAAED9vf11QgAAAGMQ/nVCAADAyGL+dUIAAIAutf51QgAAQJQH/3VCAACAl2v9dUIAAED9vf11QgAAAGMQ/nVCAADAyGL+dUIAAIAutf51QgAAQJQH/3VCAADAX6z/dUIAAIDF/v91QgAAgJdr/XVCAABA/b39dUIAAABjEP51QgAAwMhi/nVCAACALrX+dUIAAECUB/91QgAAwF+s/3VCAACAxf7/dUI=\",\"dtype\":\"float64\",\"order\":\"little\",\"shape\":[265]},\"y\":[19,14,1,13,5,11,9,21,14,33,13,2,18,12,4,15,15,28,32,11,30,18,11,15,2,13,8,18,13,15,19,14,16,6,10,31,32,24,3,2,16,18,26,32,6,3,25,23,37,6,8,22,29,62,55,12,43,47,13,1,1,1,4,1,4,3,1,1,2,3,3,1,4,9,3,1,2,1,3,1,14,10,2,1,4,7,13,7,1,2,4,1,2,8,11,2,1,7,4,5,18,33,49,16,13,29,28,38,19,29,18,15,25,37,43,24,10,34,19,30,7,40,34,19,16,51,59,35,10,38,38,62,18,41,34,37,6,4,13,6,5,6,6,5,2,5,6,2,18,6,7,11,9,4,1,25,13,10,3,9,3,11,15,18,3,5,6,2,1,22,72,77,71,27,47,43,1,36,59,168,163,104,64,24,77,123,131,19,65,73,54,36,38,51,80,24,21,94,101,119,9,62,28,18,1,29,84,116,98,22,52,48,37,96,25,70,41,16,28,4,5,25,8,8,8,1,7,1,9,1,6,6,6,1,8,3,1,7,13,15,29,6,2,7,20,26,14,11,2,9,2,3,10,6,2,8,24,9,8,5,2,4,8,9,2]},\"selected\":{\"id\":\"1873\"},\"selection_policy\":{\"id\":\"1872\"}},\"id\":\"1845\",\"type\":\"ColumnDataSource\"},{\"attributes\":{},\"id\":\"1842\",\"type\":\"Selection\"},{\"attributes\":{},\"id\":\"1792\",\"type\":\"LinearScale\"},{\"attributes\":{},\"id\":\"1826\",\"type\":\"AllLabels\"},{\"attributes\":{},\"id\":\"1872\",\"type\":\"UnionRenderers\"},{\"attributes\":{\"fill_color\":{\"value\":\"#1f77b4\"},\"line_color\":{\"value\":\"blue\"},\"line_width\":{\"value\":3},\"x\":{\"field\":\"x\"},\"y\":{\"field\":\"y\"}},\"id\":\"1846\",\"type\":\"Circle\"},{\"attributes\":{},\"id\":\"1827\",\"type\":\"BasicTickFormatter\"},{\"attributes\":{\"fill_alpha\":{\"value\":0.1},\"fill_color\":{\"value\":\"#1f77b4\"},\"line_alpha\":{\"value\":0.1},\"line_color\":{\"value\":\"purple\"},\"line_width\":{\"value\":3},\"x\":{\"field\":\"x\"},\"y\":{\"field\":\"y\"}},\"id\":\"1818\",\"type\":\"Circle\"},{\"attributes\":{},\"id\":\"1786\",\"type\":\"DataRange1d\"},{\"attributes\":{\"num_minor_ticks\":5,\"tickers\":[{\"id\":\"1829\"},{\"id\":\"1830\"},{\"id\":\"1831\"},{\"id\":\"1832\"},{\"id\":\"1833\"},{\"id\":\"1834\"},{\"id\":\"1835\"},{\"id\":\"1836\"},{\"id\":\"1837\"},{\"id\":\"1838\"},{\"id\":\"1839\"},{\"id\":\"1840\"}]},\"id\":\"1795\",\"type\":\"DatetimeTicker\"},{\"attributes\":{},\"id\":\"1788\",\"type\":\"DataRange1d\"},{\"attributes\":{},\"id\":\"1873\",\"type\":\"Selection\"},{\"attributes\":{\"axis_label\":\"Clicks\",\"formatter\":{\"id\":\"1827\"},\"major_label_policy\":{\"id\":\"1826\"},\"ticker\":{\"id\":\"1799\"}},\"id\":\"1798\",\"type\":\"LinearAxis\"},{\"attributes\":{\"overlay\":{\"id\":\"1808\"}},\"id\":\"1805\",\"type\":\"BoxZoomTool\"},{\"attributes\":{\"axis\":{\"id\":\"1794\"},\"ticker\":null},\"id\":\"1797\",\"type\":\"Grid\"},{\"attributes\":{\"axis_label\":\"Date\",\"formatter\":{\"id\":\"1824\"},\"major_label_policy\":{\"id\":\"1823\"},\"ticker\":{\"id\":\"1795\"}},\"id\":\"1794\",\"type\":\"DatetimeAxis\"},{\"attributes\":{\"axis\":{\"id\":\"1798\"},\"dimension\":1,\"ticker\":null},\"id\":\"1801\",\"type\":\"Grid\"},{\"attributes\":{\"mantissas\":[1,2,5],\"max_interval\":500.0,\"num_minor_ticks\":0},\"id\":\"1829\",\"type\":\"AdaptiveTicker\"},{\"attributes\":{},\"id\":\"1799\",\"type\":\"BasicTicker\"},{\"attributes\":{\"base\":60,\"mantissas\":[1,2,5,10,15,20,30],\"max_interval\":1800000.0,\"min_interval\":1000.0,\"num_minor_ticks\":0},\"id\":\"1830\",\"type\":\"AdaptiveTicker\"},{\"attributes\":{\"days\":[1,2,3,4,5,6,7,8,9,10,11,12,13,14,15,16,17,18,19,20,21,22,23,24,25,26,27,28,29,30,31]},\"id\":\"1832\",\"type\":\"DaysTicker\"},{\"attributes\":{},\"id\":\"1804\",\"type\":\"PanTool\"},{\"attributes\":{\"base\":24,\"mantissas\":[1,2,4,6,8,12],\"max_interval\":43200000.0,\"min_interval\":3600000.0,\"num_minor_ticks\":0},\"id\":\"1831\",\"type\":\"AdaptiveTicker\"},{\"attributes\":{},\"id\":\"1803\",\"type\":\"SaveTool\"},{\"attributes\":{},\"id\":\"1802\",\"type\":\"CrosshairTool\"},{\"attributes\":{\"months\":[0,1,2,3,4,5,6,7,8,9,10,11]},\"id\":\"1836\",\"type\":\"MonthsTicker\"},{\"attributes\":{\"active_multi\":null,\"tools\":[{\"id\":\"1802\"},{\"id\":\"1803\"},{\"id\":\"1804\"},{\"id\":\"1805\"},{\"id\":\"1806\"},{\"id\":\"1807\"}]},\"id\":\"1809\",\"type\":\"Toolbar\"},{\"attributes\":{\"bottom_units\":\"screen\",\"fill_alpha\":0.5,\"fill_color\":\"lightgrey\",\"left_units\":\"screen\",\"level\":\"overlay\",\"line_alpha\":1.0,\"line_color\":\"black\",\"line_dash\":[4,4],\"line_width\":2,\"right_units\":\"screen\",\"syncable\":false,\"top_units\":\"screen\"},\"id\":\"1808\",\"type\":\"BoxAnnotation\"},{\"attributes\":{\"months\":[0,2,4,6,8,10]},\"id\":\"1837\",\"type\":\"MonthsTicker\"},{\"attributes\":{\"days\":[1,4,7,10,13,16,19,22,25,28]},\"id\":\"1833\",\"type\":\"DaysTicker\"},{\"attributes\":{\"data_source\":{\"id\":\"1845\"},\"glyph\":{\"id\":\"1846\"},\"hover_glyph\":null,\"muted_glyph\":null,\"nonselection_glyph\":{\"id\":\"1847\"},\"view\":{\"id\":\"1849\"}},\"id\":\"1848\",\"type\":\"GlyphRenderer\"},{\"attributes\":{},\"id\":\"1806\",\"type\":\"ResetTool\"},{\"attributes\":{\"data\":{\"x\":{\"__ndarray__\":\"AAAANX37dUIAAMCaz/t1QgAAgAAi/HVCAABAZnT8dUIAAADMxvx1QgAAwDEZ/XVCAACAl2v9dUIAAED9vf11QgAAwJrP+3VCAACAACL8dUIAAEBmdPx1QgAAAMzG/HVCAADAMRn9dUIAAICXa/11QgAAgJdr/XVCAABA/b39dUIAAABjEP51QgAAwMhi/nVCAACALrX+dUIAAECUB/91QgAAAPpZ/3VCAADAX6z/dUIAAIDF/v91Qg==\",\"dtype\":\"float64\",\"order\":\"little\",\"shape\":[23]},\"y\":[254,365,403,257,101,116,86,32,95,261,326,483,558,244,367,550,666,687,244,227,313,287,309]},\"selected\":{\"id\":\"1842\"},\"selection_policy\":{\"id\":\"1841\"}},\"id\":\"1816\",\"type\":\"ColumnDataSource\"},{\"attributes\":{},\"id\":\"1807\",\"type\":\"WheelZoomTool\"},{\"attributes\":{\"days\":[1,15]},\"id\":\"1835\",\"type\":\"DaysTicker\"},{\"attributes\":{\"months\":[0,6]},\"id\":\"1839\",\"type\":\"MonthsTicker\"},{\"attributes\":{\"source\":{\"id\":\"1816\"}},\"id\":\"1820\",\"type\":\"CDSView\"},{\"attributes\":{\"days\":[1,8,15,22]},\"id\":\"1834\",\"type\":\"DaysTicker\"},{\"attributes\":{\"fill_alpha\":{\"value\":0.1},\"fill_color\":{\"value\":\"#1f77b4\"},\"line_alpha\":{\"value\":0.1},\"line_color\":{\"value\":\"blue\"},\"line_width\":{\"value\":3},\"x\":{\"field\":\"x\"},\"y\":{\"field\":\"y\"}},\"id\":\"1847\",\"type\":\"Circle\"},{\"attributes\":{},\"id\":\"1840\",\"type\":\"YearsTicker\"},{\"attributes\":{\"source\":{\"id\":\"1845\"}},\"id\":\"1849\",\"type\":\"CDSView\"},{\"attributes\":{\"months\":[0,4,8]},\"id\":\"1838\",\"type\":\"MonthsTicker\"},{\"attributes\":{\"label\":{\"value\":\"Nanigans\"},\"renderers\":[{\"id\":\"1848\"}]},\"id\":\"1874\",\"type\":\"LegendItem\"},{\"attributes\":{\"data_source\":{\"id\":\"1816\"},\"glyph\":{\"id\":\"1817\"},\"hover_glyph\":null,\"muted_glyph\":null,\"nonselection_glyph\":{\"id\":\"1818\"},\"view\":{\"id\":\"1820\"}},\"id\":\"1819\",\"type\":\"GlyphRenderer\"},{\"attributes\":{\"text\":\"Clicks\"},\"id\":\"1784\",\"type\":\"Title\"}],\"root_ids\":[\"1783\"]},\"title\":\"Bokeh Application\",\"version\":\"2.3.1\"}};\n",
       "  var render_items = [{\"docid\":\"278fac91-09a1-454e-880e-781b75f8fa23\",\"root_ids\":[\"1783\"],\"roots\":{\"1783\":\"e13bc2f3-a9d9-4c14-b276-a6146a76885d\"}}];\n",
       "  root.Bokeh.embed.embed_items_notebook(docs_json, render_items);\n",
       "\n",
       "  }\n",
       "  if (root.Bokeh !== undefined) {\n",
       "    embed_document(root);\n",
       "  } else {\n",
       "    var attempts = 0;\n",
       "    var timer = setInterval(function(root) {\n",
       "      if (root.Bokeh !== undefined) {\n",
       "        clearInterval(timer);\n",
       "        embed_document(root);\n",
       "      } else {\n",
       "        attempts++;\n",
       "        if (attempts > 100) {\n",
       "          clearInterval(timer);\n",
       "          console.log(\"Bokeh: ERROR: Unable to run BokehJS code because BokehJS library is missing\");\n",
       "        }\n",
       "      }\n",
       "    }, 10, root)\n",
       "  }\n",
       "})(window);"
      ],
      "application/vnd.bokehjs_exec.v0+json": ""
     },
     "metadata": {
      "application/vnd.bokehjs_exec.v0+json": {
       "id": "1783"
      }
     },
     "output_type": "display_data"
    }
   ],
   "source": [
    "TOOLS = 'crosshair,save,pan,box_zoom,reset,wheel_zoom'\n",
    "p = figure(title=\"Clicks\", y_axis_type=\"linear\",x_axis_type='datetime', tools = TOOLS)\n",
    "\n",
    "p.circle(df_smartly.index, df_smartly.clicks, legend=\"Smartly\", line_color=\"purple\", line_width = 3)\n",
    "p.circle(df_nanigans.index, df_nanigans.clicks, legend=\"Nanigans\", line_color=\"blue\", line_width = 3)\n",
    "\n",
    "p.legend.location = \"top_left\"\n",
    "\n",
    "p.xaxis.axis_label = 'Date'\n",
    "p.yaxis.axis_label = 'Clicks'\n",
    "\n",
    "show(p)"
   ]
  },
  {
   "cell_type": "markdown",
   "metadata": {},
   "source": [
    "## Visualizing Conversions between Smartly & Nanigans"
   ]
  },
  {
   "cell_type": "code",
   "execution_count": 45,
   "metadata": {},
   "outputs": [
    {
     "name": "stderr",
     "output_type": "stream",
     "text": [
      "BokehDeprecationWarning: 'legend' keyword is deprecated, use explicit 'legend_label', 'legend_field', or 'legend_group' keywords instead\n",
      "BokehDeprecationWarning: 'legend' keyword is deprecated, use explicit 'legend_label', 'legend_field', or 'legend_group' keywords instead\n"
     ]
    },
    {
     "data": {
      "text/html": [
       "\n",
       "\n",
       "\n",
       "\n",
       "\n",
       "\n",
       "  <div class=\"bk-root\" id=\"6dc20b7c-3ac3-4d8d-887d-56c1dc4586cf\" data-root-id=\"2091\"></div>\n"
      ]
     },
     "metadata": {},
     "output_type": "display_data"
    },
    {
     "data": {
      "application/javascript": [
       "(function(root) {\n",
       "  function embed_document(root) {\n",
       "    \n",
       "  var docs_json = {\"f969c035-fbe2-488c-9f33-856596d2053a\":{\"defs\":[],\"roots\":{\"references\":[{\"attributes\":{\"below\":[{\"id\":\"2102\"}],\"center\":[{\"id\":\"2105\"},{\"id\":\"2109\"},{\"id\":\"2151\"}],\"left\":[{\"id\":\"2106\"}],\"renderers\":[{\"id\":\"2127\"},{\"id\":\"2156\"}],\"title\":{\"id\":\"2092\"},\"toolbar\":{\"id\":\"2117\"},\"x_range\":{\"id\":\"2094\"},\"x_scale\":{\"id\":\"2098\"},\"y_range\":{\"id\":\"2096\"},\"y_scale\":{\"id\":\"2100\"}},\"id\":\"2091\",\"subtype\":\"Figure\",\"type\":\"Plot\"},{\"attributes\":{\"data\":{\"x\":{\"__ndarray__\":\"AAAANX37dUIAAMCaz/t1QgAAQP29/XVCAAAANX37dUIAAMCaz/t1QgAAADV9+3VCAADAms/7dUIAAAA1fft1QgAAwJrP+3VCAAAANX37dUIAAMCaz/t1QgAAQP29/XVCAAAANX37dUIAAMCaz/t1QgAAQP29/XVCAAAANX37dUIAAMCaz/t1QgAAgAAi/HVCAABAZnT8dUIAAADMxvx1QgAAwDEZ/XVCAACAl2v9dUIAAAA1fft1QgAAwJrP+3VCAABA/b39dUIAAAA1fft1QgAAwJrP+3VCAABAZnT8dUIAAADMxvx1QgAAwDEZ/XVCAACAl2v9dUIAAAA1fft1QgAAwJrP+3VCAACAACL8dUIAAAA1fft1QgAAwJrP+3VCAACAACL8dUIAAEBmdPx1QgAAAMzG/HVCAACAl2v9dUIAAAA1fft1QgAAwJrP+3VCAACAACL8dUIAAEBmdPx1QgAAAMzG/HVCAACAl2v9dUIAAAA1fft1QgAAwJrP+3VCAACAACL8dUIAAEBmdPx1QgAAQP29/XVCAAAANX37dUIAAMCaz/t1QgAAgAAi/HVCAABAZnT8dUIAAADMxvx1QgAAwDEZ/XVCAACAl2v9dUIAAED9vf11QgAAADV9+3VCAADAms/7dUIAAAA1fft1QgAAwJrP+3VCAADAms/7dUIAAAA1fft1QgAAwJrP+3VCAAAANX37dUIAAMCaz/t1QgAAADV9+3VCAADAms/7dUIAAIAAIvx1QgAAQGZ0/HVCAAAANX37dUIAAAA1fft1QgAAwJrP+3VCAABAZnT8dUIAAADMxvx1QgAAwDEZ/XVCAAAANX37dUIAAMCaz/t1QgAAgAAi/HVCAABAZnT8dUIAAMAxGf11QgAAgJdr/XVCAAAANX37dUIAAMCaz/t1QgAAgAAi/HVCAABAZnT8dUIAAMAxGf11QgAAADV9+3VCAADAms/7dUIAAIAAIvx1QgAAADV9+3VCAADAms/7dUIAAIAAIvx1QgAAQGZ0/HVCAAAANX37dUIAAMCaz/t1QgAAgAAi/HVCAABAZnT8dUIAAEBmdPx1QgAAAMzG/HVCAADAMRn9dUIAAICXa/11QgAAQGZ0/HVCAAAAzMb8dUIAAMAxGf11QgAAgJdr/XVCAABAZnT8dUIAAADMxvx1QgAAwDEZ/XVCAACAl2v9dUIAAEBmdPx1QgAAAMzG/HVCAADAMRn9dUIAAICXa/11QgAAQGZ0/HVCAAAAzMb8dUIAAMAxGf11QgAAgJdr/XVCAABAZnT8dUIAAADMxvx1QgAAwDEZ/XVCAACAl2v9dUIAAEBmdPx1QgAAAMzG/HVCAADAMRn9dUIAAICXa/11QgAAQGZ0/HVCAAAAzMb8dUIAAMAxGf11QgAAgJdr/XVCAABAZnT8dUIAAADMxvx1QgAAwDEZ/XVCAACAl2v9dUIAAEBmdPx1QgAAAMzG/HVCAACAl2v9dUIAAEBmdPx1QgAAAMzG/HVCAADAMRn9dUIAAICXa/11QgAAQGZ0/HVCAAAAzMb8dUIAAMAxGf11QgAAgJdr/XVCAABAZnT8dUIAAADMxvx1QgAAwDEZ/XVCAACAl2v9dUIAAADMxvx1QgAAwDEZ/XVCAACAl2v9dUIAAEBmdPx1QgAAAMzG/HVCAADAMRn9dUIAAICXa/11QgAAQGZ0/HVCAAAAzMb8dUIAAMAxGf11QgAAQGZ0/HVCAAAAzMb8dUIAAMAxGf11QgAAgJdr/XVCAABAZnT8dUIAAADMxvx1QgAAwDEZ/XVCAACAl2v9dUIAAICXa/11QgAAQP29/XVCAAAAYxD+dUIAAMDIYv51QgAAgC61/nVCAABAlAf/dUIAAAD6Wf91QgAAwF+s/3VCAACAxf7/dUIAAICXa/11QgAAQP29/XVCAAAAYxD+dUIAAMDIYv51QgAAgC61/nVCAABAlAf/dUIAAAD6Wf91QgAAwF+s/3VCAACAxf7/dUIAAICXa/11QgAAQP29/XVCAAAAYxD+dUIAAMDIYv51QgAAgC61/nVCAABAlAf/dUIAAAD6Wf91QgAAwF+s/3VCAACAxf7/dUIAAICXa/11QgAAQP29/XVCAAAAYxD+dUIAAMDIYv51QgAAgC61/nVCAABAlAf/dUIAAAD6Wf91QgAAwF+s/3VCAACAxf7/dUIAAICXa/11QgAAQP29/XVCAAAAYxD+dUIAAMDIYv51QgAAgC61/nVCAABAlAf/dUIAAAD6Wf91QgAAwF+s/3VCAACAxf7/dUIAAICXa/11QgAAQP29/XVCAAAAYxD+dUIAAMDIYv51QgAAgC61/nVCAABAlAf/dUIAAAD6Wf91QgAAwF+s/3VCAACAl2v9dUIAAED9vf11QgAAAGMQ/nVCAADAyGL+dUIAAIAutf51QgAAQJQH/3VCAAAA+ln/dUIAAIDF/v91QgAAgJdr/XVCAAAAYxD+dUIAAMDIYv51QgAAgC61/nVCAABAlAf/dUIAAAD6Wf91QgAAwF+s/3VCAACAxf7/dUIAAICXa/11QgAAQP29/XVCAAAAYxD+dUIAAMDIYv51QgAAgMX+/3VCAACAl2v9dUIAAED9vf11QgAAAGMQ/nVCAADAyGL+dUIAAIAutf51QgAAQJQH/3VCAACAl2v9dUIAAED9vf11QgAAAGMQ/nVCAADAyGL+dUIAAIAutf51QgAAQJQH/3VCAADAX6z/dUIAAIDF/v91QgAAgJdr/XVCAABA/b39dUIAAABjEP51QgAAwMhi/nVCAACALrX+dUIAAECUB/91QgAAwF+s/3VCAACAxf7/dUI=\",\"dtype\":\"float64\",\"order\":\"little\",\"shape\":[265]},\"y\":[6,1,0,4,3,5,2,5,5,12,3,1,11,5,1,8,6,5,7,0,6,7,2,4,0,8,2,7,2,6,7,2,8,3,4,12,14,8,0,0,5,6,10,9,3,1,9,19,19,2,7,10,5,20,12,3,16,16,1,2,0,0,0,0,6,4,1,1,1,2,4,2,2,7,1,0,0,0,1,0,6,5,1,1,3,4,5,4,0,2,3,0,1,5,6,0,2,6,2,1,12,13,19,10,11,13,10,21,8,16,7,4,19,22,16,9,6,15,24,22,4,28,10,3,8,18,11,11,3,16,17,28,5,27,16,22,14,2,6,2,7,11,3,3,0,7,4,1,8,4,6,8,6,1,0,12,13,7,1,6,2,11,24,4,2,5,3,1,0,18,35,29,19,6,19,13,0,14,13,42,50,22,14,10,17,34,24,7,38,23,17,7,9,7,16,8,10,34,33,23,3,14,4,8,0,18,31,24,20,2,15,14,13,18,14,22,22,3,12,0,0,3,1,2,5,0,6,1,6,0,2,6,3,1,3,1,1,2,8,6,14,4,5,5,8,10,6,2,1,2,1,1,6,6,1,1,7,1,3,4,9,1,9,5,1]},\"selected\":{\"id\":\"2181\"},\"selection_policy\":{\"id\":\"2180\"}},\"id\":\"2153\",\"type\":\"ColumnDataSource\"},{\"attributes\":{\"text\":\"Conversions\"},\"id\":\"2092\",\"type\":\"Title\"},{\"attributes\":{},\"id\":\"2096\",\"type\":\"DataRange1d\"},{\"attributes\":{\"fill_color\":{\"value\":\"#1f77b4\"},\"line_color\":{\"value\":\"blue\"},\"line_width\":{\"value\":3},\"x\":{\"field\":\"x\"},\"y\":{\"field\":\"y\"}},\"id\":\"2154\",\"type\":\"Circle\"},{\"attributes\":{\"axis\":{\"id\":\"2102\"},\"ticker\":null},\"id\":\"2105\",\"type\":\"Grid\"},{\"attributes\":{\"axis_label\":\"Date\",\"formatter\":{\"id\":\"2132\"},\"major_label_policy\":{\"id\":\"2131\"},\"ticker\":{\"id\":\"2103\"}},\"id\":\"2102\",\"type\":\"DatetimeAxis\"},{\"attributes\":{\"fill_alpha\":{\"value\":0.1},\"fill_color\":{\"value\":\"#1f77b4\"},\"line_alpha\":{\"value\":0.1},\"line_color\":{\"value\":\"purple\"},\"line_width\":{\"value\":3},\"x\":{\"field\":\"x\"},\"y\":{\"field\":\"y\"}},\"id\":\"2126\",\"type\":\"Circle\"},{\"attributes\":{\"months\":[0,4,8]},\"id\":\"2146\",\"type\":\"MonthsTicker\"},{\"attributes\":{},\"id\":\"2148\",\"type\":\"YearsTicker\"},{\"attributes\":{},\"id\":\"2100\",\"type\":\"LinearScale\"},{\"attributes\":{\"months\":[0,6]},\"id\":\"2147\",\"type\":\"MonthsTicker\"},{\"attributes\":{\"num_minor_ticks\":5,\"tickers\":[{\"id\":\"2137\"},{\"id\":\"2138\"},{\"id\":\"2139\"},{\"id\":\"2140\"},{\"id\":\"2141\"},{\"id\":\"2142\"},{\"id\":\"2143\"},{\"id\":\"2144\"},{\"id\":\"2145\"},{\"id\":\"2146\"},{\"id\":\"2147\"},{\"id\":\"2148\"}]},\"id\":\"2103\",\"type\":\"DatetimeTicker\"},{\"attributes\":{\"months\":[0,1,2,3,4,5,6,7,8,9,10,11]},\"id\":\"2144\",\"type\":\"MonthsTicker\"},{\"attributes\":{\"axis_label\":\"Conversions (Click-Through only)\",\"formatter\":{\"id\":\"2135\"},\"major_label_policy\":{\"id\":\"2134\"},\"ticker\":{\"id\":\"2107\"}},\"id\":\"2106\",\"type\":\"LinearAxis\"},{\"attributes\":{\"mantissas\":[1,2,5],\"max_interval\":500.0,\"num_minor_ticks\":0},\"id\":\"2137\",\"type\":\"AdaptiveTicker\"},{\"attributes\":{\"axis\":{\"id\":\"2106\"},\"dimension\":1,\"ticker\":null},\"id\":\"2109\",\"type\":\"Grid\"},{\"attributes\":{\"base\":60,\"mantissas\":[1,2,5,10,15,20,30],\"max_interval\":1800000.0,\"min_interval\":1000.0,\"num_minor_ticks\":0},\"id\":\"2138\",\"type\":\"AdaptiveTicker\"},{\"attributes\":{},\"id\":\"2107\",\"type\":\"BasicTicker\"},{\"attributes\":{\"days\":[1,2,3,4,5,6,7,8,9,10,11,12,13,14,15,16,17,18,19,20,21,22,23,24,25,26,27,28,29,30,31]},\"id\":\"2140\",\"type\":\"DaysTicker\"},{\"attributes\":{\"base\":24,\"mantissas\":[1,2,4,6,8,12],\"max_interval\":43200000.0,\"min_interval\":3600000.0,\"num_minor_ticks\":0},\"id\":\"2139\",\"type\":\"AdaptiveTicker\"},{\"attributes\":{},\"id\":\"2112\",\"type\":\"PanTool\"},{\"attributes\":{\"months\":[0,2,4,6,8,10]},\"id\":\"2145\",\"type\":\"MonthsTicker\"},{\"attributes\":{},\"id\":\"2111\",\"type\":\"SaveTool\"},{\"attributes\":{\"data_source\":{\"id\":\"2153\"},\"glyph\":{\"id\":\"2154\"},\"hover_glyph\":null,\"muted_glyph\":null,\"nonselection_glyph\":{\"id\":\"2155\"},\"view\":{\"id\":\"2157\"}},\"id\":\"2156\",\"type\":\"GlyphRenderer\"},{\"attributes\":{},\"id\":\"2110\",\"type\":\"CrosshairTool\"},{\"attributes\":{\"active_multi\":null,\"tools\":[{\"id\":\"2110\"},{\"id\":\"2111\"},{\"id\":\"2112\"},{\"id\":\"2113\"},{\"id\":\"2114\"},{\"id\":\"2115\"}]},\"id\":\"2117\",\"type\":\"Toolbar\"},{\"attributes\":{\"days\":[1,4,7,10,13,16,19,22,25,28]},\"id\":\"2141\",\"type\":\"DaysTicker\"},{\"attributes\":{\"fill_alpha\":{\"value\":0.1},\"fill_color\":{\"value\":\"#1f77b4\"},\"line_alpha\":{\"value\":0.1},\"line_color\":{\"value\":\"blue\"},\"line_width\":{\"value\":3},\"x\":{\"field\":\"x\"},\"y\":{\"field\":\"y\"}},\"id\":\"2155\",\"type\":\"Circle\"},{\"attributes\":{\"days\":[1,15]},\"id\":\"2143\",\"type\":\"DaysTicker\"},{\"attributes\":{},\"id\":\"2114\",\"type\":\"ResetTool\"},{\"attributes\":{\"source\":{\"id\":\"2153\"}},\"id\":\"2157\",\"type\":\"CDSView\"},{\"attributes\":{},\"id\":\"2115\",\"type\":\"WheelZoomTool\"},{\"attributes\":{\"days\":[1,8,15,22]},\"id\":\"2142\",\"type\":\"DaysTicker\"},{\"attributes\":{},\"id\":\"2134\",\"type\":\"AllLabels\"},{\"attributes\":{\"items\":[{\"id\":\"2152\"},{\"id\":\"2182\"}],\"location\":\"top_left\"},\"id\":\"2151\",\"type\":\"Legend\"},{\"attributes\":{\"label\":{\"value\":\"Nanigans\"},\"renderers\":[{\"id\":\"2156\"}]},\"id\":\"2182\",\"type\":\"LegendItem\"},{\"attributes\":{\"label\":{\"value\":\"Smartly\"},\"renderers\":[{\"id\":\"2127\"}]},\"id\":\"2152\",\"type\":\"LegendItem\"},{\"attributes\":{},\"id\":\"2149\",\"type\":\"UnionRenderers\"},{\"attributes\":{\"source\":{\"id\":\"2124\"}},\"id\":\"2128\",\"type\":\"CDSView\"},{\"attributes\":{\"fill_color\":{\"value\":\"#1f77b4\"},\"line_color\":{\"value\":\"purple\"},\"line_width\":{\"value\":3},\"x\":{\"field\":\"x\"},\"y\":{\"field\":\"y\"}},\"id\":\"2125\",\"type\":\"Circle\"},{\"attributes\":{\"data_source\":{\"id\":\"2124\"},\"glyph\":{\"id\":\"2125\"},\"hover_glyph\":null,\"muted_glyph\":null,\"nonselection_glyph\":{\"id\":\"2126\"},\"view\":{\"id\":\"2128\"}},\"id\":\"2127\",\"type\":\"GlyphRenderer\"},{\"attributes\":{},\"id\":\"2150\",\"type\":\"Selection\"},{\"attributes\":{},\"id\":\"2098\",\"type\":\"LinearScale\"},{\"attributes\":{},\"id\":\"2131\",\"type\":\"AllLabels\"},{\"attributes\":{},\"id\":\"2132\",\"type\":\"DatetimeTickFormatter\"},{\"attributes\":{\"overlay\":{\"id\":\"2116\"}},\"id\":\"2113\",\"type\":\"BoxZoomTool\"},{\"attributes\":{\"bottom_units\":\"screen\",\"fill_alpha\":0.5,\"fill_color\":\"lightgrey\",\"left_units\":\"screen\",\"level\":\"overlay\",\"line_alpha\":1.0,\"line_color\":\"black\",\"line_dash\":[4,4],\"line_width\":2,\"right_units\":\"screen\",\"syncable\":false,\"top_units\":\"screen\"},\"id\":\"2116\",\"type\":\"BoxAnnotation\"},{\"attributes\":{},\"id\":\"2180\",\"type\":\"UnionRenderers\"},{\"attributes\":{},\"id\":\"2181\",\"type\":\"Selection\"},{\"attributes\":{\"data\":{\"x\":{\"__ndarray__\":\"AAAANX37dUIAAMCaz/t1QgAAgAAi/HVCAABAZnT8dUIAAADMxvx1QgAAwDEZ/XVCAACAl2v9dUIAAED9vf11QgAAwJrP+3VCAACAACL8dUIAAEBmdPx1QgAAAMzG/HVCAADAMRn9dUIAAICXa/11QgAAgJdr/XVCAABA/b39dUIAAABjEP51QgAAwMhi/nVCAACALrX+dUIAAECUB/91QgAAAPpZ/3VCAADAX6z/dUIAAIDF/v91Qg==\",\"dtype\":\"float64\",\"order\":\"little\",\"shape\":[23]},\"y\":[117,184,170,95,36,47,29,12,61,114,127,168,213,76,105,216,257,179,81,86,89,73,80]},\"selected\":{\"id\":\"2150\"},\"selection_policy\":{\"id\":\"2149\"}},\"id\":\"2124\",\"type\":\"ColumnDataSource\"},{\"attributes\":{},\"id\":\"2094\",\"type\":\"DataRange1d\"},{\"attributes\":{},\"id\":\"2135\",\"type\":\"BasicTickFormatter\"}],\"root_ids\":[\"2091\"]},\"title\":\"Bokeh Application\",\"version\":\"2.3.1\"}};\n",
       "  var render_items = [{\"docid\":\"f969c035-fbe2-488c-9f33-856596d2053a\",\"root_ids\":[\"2091\"],\"roots\":{\"2091\":\"6dc20b7c-3ac3-4d8d-887d-56c1dc4586cf\"}}];\n",
       "  root.Bokeh.embed.embed_items_notebook(docs_json, render_items);\n",
       "\n",
       "  }\n",
       "  if (root.Bokeh !== undefined) {\n",
       "    embed_document(root);\n",
       "  } else {\n",
       "    var attempts = 0;\n",
       "    var timer = setInterval(function(root) {\n",
       "      if (root.Bokeh !== undefined) {\n",
       "        clearInterval(timer);\n",
       "        embed_document(root);\n",
       "      } else {\n",
       "        attempts++;\n",
       "        if (attempts > 100) {\n",
       "          clearInterval(timer);\n",
       "          console.log(\"Bokeh: ERROR: Unable to run BokehJS code because BokehJS library is missing\");\n",
       "        }\n",
       "      }\n",
       "    }, 10, root)\n",
       "  }\n",
       "})(window);"
      ],
      "application/vnd.bokehjs_exec.v0+json": ""
     },
     "metadata": {
      "application/vnd.bokehjs_exec.v0+json": {
       "id": "2091"
      }
     },
     "output_type": "display_data"
    }
   ],
   "source": [
    "TOOLS = 'crosshair,save,pan,box_zoom,reset,wheel_zoom'\n",
    "p = figure(title=\"Conversions\", y_axis_type=\"linear\",x_axis_type='datetime', tools = TOOLS)\n",
    "\n",
    "p.circle(df_smartly.index, df_smartly.conversions, legend=\"Smartly\", line_color=\"purple\", line_width = 3)\n",
    "p.circle(df_nanigans.index, df_nanigans.conversions, legend=\"Nanigans\", line_color=\"blue\", line_width = 3)\n",
    "\n",
    "p.legend.location = \"top_left\"\n",
    "\n",
    "p.xaxis.axis_label = 'Date'\n",
    "p.yaxis.axis_label = 'Conversions (Click-Through only)'\n",
    "\n",
    "show(p)"
   ]
  },
  {
   "cell_type": "markdown",
   "metadata": {},
   "source": [
    "## Comparing the CPA performance between Smartly & Nanigans and determining significance "
   ]
  },
  {
   "cell_type": "code",
   "execution_count": 41,
   "metadata": {},
   "outputs": [
    {
     "data": {
      "image/png": "[encoded data removed]",
      "text/plain": [
       "<Figure size 648x288 with 2 Axes>"
      ]
     },
     "metadata": {},
     "output_type": "display_data"
    }
   ],
   "source": [
    "# Plotting both distributions (from above) together for comparison\n",
    "\n",
    "sns.set_style(style='white')\n",
    "fig, ax1 = plt.subplots()\n",
    "ax2 = ax1.twinx()\n",
    "sns.histplot(df_smartly['CPA'], color='orange', label='Smartly', ax=ax2)\n",
    "sns.histplot(df_nanigans_conv_only['CPA'], color='blue', label='Nanigans', ax=ax1)\n",
    "ax2.legend(loc=0)\n",
    "ax1.legend(loc=7)\n",
    "plt.title('Comparison of CPA distributions for Smartly and Nanigans');"
   ]
  },
  {
   "cell_type": "markdown",
   "metadata": {},
   "source": [
    "### These distributions look quite dissimilar and as seen above, also not normaly distributed"
   ]
  },
  {
   "cell_type": "markdown",
   "metadata": {},
   "source": [
    "### I had originally planned on using an independent t-test, however, because an independent t-test requires the assumption of normality, we'll instead look at its nonparametric cousin -- Mann-Whitney U Test\n",
    "\n",
    "### H0: No difference in the two sample distributions\n",
    "### H1: Sample distributions are not equal"
   ]
  },
  {
   "cell_type": "code",
   "execution_count": 42,
   "metadata": {},
   "outputs": [
    {
     "name": "stdout",
     "output_type": "stream",
     "text": [
      "Statistics=1879.000, p=0.006\n",
      "Different distribution (reject H0)\n"
     ]
    }
   ],
   "source": [
    "# compare samples\n",
    "stat, p = mannwhitneyu(df_smartly['CPA'],df_nanigans_conv_only['CPA'])\n",
    "print('Statistics=%.3f, p=%.3f' % (stat, p))\n",
    "# interpret\n",
    "alpha = 0.05\n",
    "if p > alpha:\n",
    "    print('Same distribution (fail to reject H0)')\n",
    "else:\n",
    "    print('Different distribution (reject H0)')"
   ]
  },
  {
   "cell_type": "markdown",
   "metadata": {},
   "source": [
    "----"
   ]
  },
  {
   "cell_type": "markdown",
   "metadata": {},
   "source": [
    "# 4) Conclusions & Insights"
   ]
  },
  {
   "cell_type": "markdown",
   "metadata": {},
   "source": [
    "1) Which FMP gave the best results in terms of <b>CPA</b>?\n",
    "\n",
    "     - Smartly mean CPA: $2.41\n",
    "     - Nanigans mean CPA: $2.71\n",
    "    \n",
    "   Based on these numbers, it seems that Smartly performed better. \n",
    "    \n",
    "2) Comparison plots can be seen above in the notebook\n",
    "\n",
    "I chose to visualize Ad Spend, Clicks, and Conversions for both FMPs over the course of the study.\n",
    "Smartly ran far fewer ads with larger budgets per ad than Nanigans, but each of their ad groups generated much higher engagement (clicks) and coverted better. While Nanigans used the approach of super granular ads and microtargeting, Smartly appears to have done a better job at targeting much larger audiences while maintaining high conversion rates.     \n",
    "\n",
    "3) How did you evaluate statistical significance? Was the result significant? Why is this important?\n",
    "\n",
    "This is described in detail above. The difference in CPA was significant. I used the nonparametric Mann-Whitney U test because the distributions did not appear normal (a requirement of ind ttest). Significance is important because it tells you whether a result (in this case differences in our mean CPA's) was simply due to chance or to some factor of interest. \n",
    "\n",
    "4) Additional insights\n",
    "\n",
    "    - Smartly outperformed Nanigans in ROAS (using an imaginary product w/ an arbitrary price of \\\\$10)\n",
    "    - The client using Smartly would have had to spend MUCH less time creating ads to achieve better results \n",
    "    - Nanigans wasted \\\\$111.85 on 25 ad groups that didn't convert \n",
    "    - Nanigans wasted time creating 34 ad groups that didn't even generate clicks\n",
    "    - Plotting click through rate over time could be interesting\n",
    "    - Visualizing metrics by individual adgroups could provide additional insights\n",
    "    - Smartly seems like a far more efficient and effective FMP"
   ]
  },
  {
   "cell_type": "code",
   "execution_count": null,
   "metadata": {},
   "outputs": [],
   "source": []
  }
 ],
 "metadata": {
  "kernelspec": {
   "display_name": "Python 3",
   "language": "python",
   "name": "python3"
  },
  "language_info": {
   "codemirror_mode": {
    "name": "ipython",
    "version": 3
   },
   "file_extension": ".py",
   "mimetype": "text/x-python",
   "name": "python",
   "nbconvert_exporter": "python",
   "pygments_lexer": "ipython3",
   "version": "3.8.2"
  }
 },
 "nbformat": 4,
 "nbformat_minor": 4
}
