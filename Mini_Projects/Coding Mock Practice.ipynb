{
 "cells": [
  {
   "cell_type": "code",
   "execution_count": 1,
   "metadata": {},
   "outputs": [
    {
     "data": {
      "text/plain": [
       "\"\\nLevel 1 - Programming\\n----------------------\\nYou are a data scientist working in the research labs for a large retail organization.\\nCurrently you task involves mining for insights from Point-of-Sale systems which track item sales.\\nYou have data stored as follows in JSON files (for simplicity think that you have one file 'pos_data.json')\\n\\nData Sample:\\n\\n[{'item': 'Stella Extra Strong', 'price': '$23.45'},\\n{'item': 'Fosters Mild', 'price': '$12.99'},\\n{'item': 'Heineken', 'price': '$29.45'},\\n{'item': 'Stella Extra Strong', 'price': '$23.45'},\\n{'item': 'Stella Extra Strong', 'price': '$23.45'},\\n{'item': 'Fosters Mild', 'price': '$12.99'}]\\n\\n\\nYour tasks are as follows.\\n1. Write code to read in the JSON file to an appropriate python data structure (to solve Q2)\\n\\n2. Use base python libraries (not pandas) to get the following insights\\n -> Item name with top total sales\\n -> Item name with least total sales\\n -> Item name with the most units sold\\n\\nBase Python libraries only (no 3rd party libraries e.g: numpy, pandas)\\n\\n{'item': 'Stella Extra Strong', 'price': '$23.45'} - 1qty\\n\\n\""
      ]
     },
     "execution_count": 1,
     "metadata": {},
     "output_type": "execute_result"
    }
   ],
   "source": [
    "\"\"\"\n",
    "Level 1 - Programming\n",
    "----------------------\n",
    "You are a data scientist working in the research labs for a large retail organization.\n",
    "Currently you task involves mining for insights from Point-of-Sale systems which track item sales.\n",
    "You have data stored as follows in JSON files (for simplicity think that you have one file 'pos_data.json')\n",
    "\n",
    "Data Sample:\n",
    "\n",
    "[{'item': 'Stella Extra Strong', 'price': '$23.45'},\n",
    "{'item': 'Fosters Mild', 'price': '$12.99'},\n",
    "{'item': 'Heineken', 'price': '$29.45'},\n",
    "{'item': 'Stella Extra Strong', 'price': '$23.45'},\n",
    "{'item': 'Stella Extra Strong', 'price': '$23.45'},\n",
    "{'item': 'Fosters Mild', 'price': '$12.99'}]\n",
    "\n",
    "\n",
    "Your tasks are as follows.\n",
    "1. Write code to read in the JSON file to an appropriate python data structure (to solve Q2)\n",
    "\n",
    "2. Use base python libraries (not pandas) to get the following insights\n",
    " -> Item name with top total sales\n",
    " -> Item name with least total sales\n",
    " -> Item name with the most units sold\n",
    "\n",
    "Base Python libraries only (no 3rd party libraries e.g: numpy, pandas)\n",
    "\n",
    "{'item': 'Stella Extra Strong', 'price': '$23.45'} - 1qty\n",
    "\n",
    "\"\"\""
   ]
  },
  {
   "cell_type": "code",
   "execution_count": 36,
   "metadata": {},
   "outputs": [],
   "source": [
    "data = [{'item': 'Stella Extra Strong', 'price': '$23.45'},\n",
    "{'item': 'Fosters Mild', 'price': '$12.99'},\n",
    "{'item': 'Heineken', 'price': '$29.45'},\n",
    "{'item': 'Stella Extra Strong', 'price': '$23.45'},\n",
    "{'item': 'Stella Extra Strong', 'price': '$23.45'},\n",
    "{'item': 'Fosters Mild', 'price': '$12.99'}]"
   ]
  },
  {
   "cell_type": "code",
   "execution_count": 43,
   "metadata": {},
   "outputs": [
    {
     "name": "stdout",
     "output_type": "stream",
     "text": [
      "defaultdict(<class 'int'>, {'Stella Extra Strong': 69.0, 'Fosters Mild': 24.0, 'Heineken': 29.0})\n"
     ]
    }
   ],
   "source": [
    "import collections\n",
    "\n",
    "for datadict in data:\n",
    "    for key, value in datadict.items():\n",
    "        if value == '$23.45':\n",
    "            datadict[key] = 23.45\n",
    "        elif value == '$29.45':\n",
    "            datadict[key] = 29.45\n",
    "        else:\n",
    "            try:\n",
    "                datadict[key] = float(value)\n",
    "            except:\n",
    "                continue\n",
    "\n",
    "c = defaultdict(int)\n",
    "for d in data:\n",
    "    c[d['item']] += d['price']\n",
    "    \n",
    "print(c)"
   ]
  },
  {
   "cell_type": "code",
   "execution_count": 49,
   "metadata": {},
   "outputs": [
    {
     "data": {
      "text/plain": [
       "Counter({'Stella Extra Strong': 3, 'Fosters Mild': 2, 'Heineken': 1})"
      ]
     },
     "execution_count": 49,
     "metadata": {},
     "output_type": "execute_result"
    }
   ],
   "source": [
    "Counter(x['item'] for x in data)"
   ]
  },
  {
   "cell_type": "code",
   "execution_count": null,
   "metadata": {},
   "outputs": [],
   "source": []
  }
 ],
 "metadata": {
  "kernelspec": {
   "display_name": "Python 3",
   "language": "python",
   "name": "python3"
  },
  "language_info": {
   "codemirror_mode": {
    "name": "ipython",
    "version": 3
   },
   "file_extension": ".py",
   "mimetype": "text/x-python",
   "name": "python",
   "nbconvert_exporter": "python",
   "pygments_lexer": "ipython3",
   "version": "3.8.2"
  }
 },
 "nbformat": 4,
 "nbformat_minor": 4
}
